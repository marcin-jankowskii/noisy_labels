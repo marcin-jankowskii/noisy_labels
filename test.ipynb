{
 "cells": [
  {
   "cell_type": "markdown",
   "metadata": {},
   "source": [
    "\n",
    "Wiele Etykiet"
   ]
  },
  {
   "cell_type": "code",
   "execution_count": 17,
   "metadata": {},
   "outputs": [
    {
     "name": "stdout",
     "output_type": "stream",
     "text": [
      "Epoch [100/1000], Loss: 0.4784\n",
      "Epoch [200/1000], Loss: 0.4297\n",
      "Epoch [300/1000], Loss: 0.3972\n",
      "Epoch [400/1000], Loss: 0.3701\n",
      "Epoch [500/1000], Loss: 0.3460\n",
      "Epoch [600/1000], Loss: 0.3238\n",
      "Epoch [700/1000], Loss: 0.3032\n",
      "Epoch [800/1000], Loss: 0.2841\n",
      "Epoch [900/1000], Loss: 0.2664\n",
      "Epoch [1000/1000], Loss: 0.2499\n",
      "Test output: tensor([[7.1880e-01, 3.5139e-04, 2.7635e-01]], grad_fn=<SigmoidBackward0>)\n"
     ]
    }
   ],
   "source": [
    "import torch\n",
    "import torch.nn as nn\n",
    "import torch.optim as optim\n",
    "\n",
    "# Przykładowe dane (zakładamy, że dane są już znormalizowane)\n",
    "X = torch.tensor([[1.0], [4.0], [7.0]])\n",
    "\n",
    "# Zmiana rozmiaru X, tak aby odpowiadał ilości etykiet w Y\n",
    "Y = torch.tensor([[0, 0, 1], [0, 0, 1], [1, 0, 0]])\n",
    "\n",
    "# Model\n",
    "class MultiLabelModel(nn.Module):\n",
    "    def __init__(self, input_dim, output_dim):\n",
    "        super(MultiLabelModel, self).__init__()\n",
    "        self.fc1 = nn.Linear(input_dim, 10)\n",
    "        self.fc2 = nn.Linear(10, output_dim)\n",
    "\n",
    "    def forward(self, x):\n",
    "        x = torch.relu(self.fc1(x))\n",
    "        return torch.sigmoid(self.fc2(x))\n",
    "\n",
    "input_dim = X.shape[1]\n",
    "output_dim = Y.shape[1]\n",
    "\n",
    "model = MultiLabelModel(input_dim, output_dim)\n",
    "\n",
    "# Definicja funkcji straty i optymalizatora\n",
    "criterion = nn.BCELoss()\n",
    "optimizer = optim.SGD(model.parameters(), lr=0.01)\n",
    "\n",
    "# Nauka modelu\n",
    "epochs = 1000\n",
    "for epoch in range(epochs):\n",
    "    optimizer.zero_grad()\n",
    "    outputs = model(X)\n",
    "    loss = criterion(outputs, Y.float())\n",
    "    loss.backward()\n",
    "    optimizer.step()\n",
    "\n",
    "    if (epoch+1) % 100 == 0:\n",
    "        print(f'Epoch [{epoch+1}/{epochs}], Loss: {loss.item():.4f}')\n",
    "\n",
    "# Testowanie modelu na nowych danych\n",
    "test_input = torch.tensor([[7.0]])\n",
    "test_output = model(test_input)\n",
    "print(\"Test output:\", test_output)\n"
   ]
  }
 ],
 "metadata": {
  "kernelspec": {
   "display_name": "tf",
   "language": "python",
   "name": "python3"
  },
  "language_info": {
   "codemirror_mode": {
    "name": "ipython",
    "version": 3
   },
   "file_extension": ".py",
   "mimetype": "text/x-python",
   "name": "python",
   "nbconvert_exporter": "python",
   "pygments_lexer": "ipython3",
   "version": "3.11.3"
  },
  "orig_nbformat": 4
 },
 "nbformat": 4,
 "nbformat_minor": 2
}
