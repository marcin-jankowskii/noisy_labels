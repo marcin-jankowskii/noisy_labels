{
 "cells": [
  {
   "cell_type": "code",
   "execution_count": 1,
   "metadata": {},
   "outputs": [],
   "source": [
    "from models.Unet import UNet\n",
    "from dataset.data import BatchMaker\n",
    "import torch\n",
    "import yaml\n",
    "import numpy as np\n",
    "import matplotlib.pyplot as plt\n",
    "import random\n",
    "from sklearn.metrics import (\n",
    "    jaccard_score,\n",
    "    average_precision_score\n",
    ")\n"
   ]
  },
  {
   "cell_type": "code",
   "execution_count": 22,
   "metadata": {},
   "outputs": [
    {
     "name": "stdout",
     "output_type": "stream",
     "text": [
      "/media/cal314-1/9E044F59044F3415/Marcin/noisy_labels/Dataset/SegSperm/train\n",
      "/media/cal314-1/9E044F59044F3415/Marcin/noisy_labels/Dataset/SegSperm/test_small\n",
      "/media/cal314-1/9E044F59044F3415/Marcin/noisy_labels/Dataset/SegSperm/test\n",
      "/media/cal314-1/9E044F59044F3415/Marcin/noisy_labels/Dataset/SegSperm/train\n",
      "/media/cal314-1/9E044F59044F3415/Marcin/noisy_labels/Dataset/SegSperm/test_small\n",
      "/media/cal314-1/9E044F59044F3415/Marcin/noisy_labels/Dataset/SegSperm/test\n"
     ]
    }
   ],
   "source": [
    "BATCH = 1\n",
    "#path_to_config = '/media/marcin/Dysk lokalny/Programowanie/Python/Magisterka/Praca Dyplomowa/noisy_labels/Kod/config/config.yaml'\n",
    "path_to_config = '/media/cal314-1/9E044F59044F3415/Marcin/noisy_labels/Kod/config/config_lab.yaml'\n",
    "with open(path_to_config, 'r') as config_file:\n",
    "    config = yaml.safe_load(config_file)\n",
    "model_path = config['save_model_path'] + '/mixedGT1_best_model'\n",
    "\n",
    "\n",
    "annotator1 = BatchMaker(config_path=path_to_config, batch_size=BATCH, mode = 'all',segment = 'mixed',annotator= 1)\n",
    "train_GT1 = annotator1.train_loader\n",
    "annotator2 = BatchMaker(config_path=path_to_config, batch_size=BATCH, mode = 'all',segment = 'mixed',annotator= 2)\n",
    "train_GT2 = annotator2.train_loader\n"
   ]
  },
  {
   "cell_type": "code",
   "execution_count": 32,
   "metadata": {},
   "outputs": [],
   "source": [
    "import matplotlib.pyplot as plt \n",
    "\n",
    "labels1 = []\n",
    "labels2 = []\n",
    "for i in range(len(train_GT1.dataset)):\n",
    "    labels1.append(train_GT1.dataset.__getitem__(i)[1][0])\n",
    "    labels2.append(train_GT2.dataset.__getitem__(i)[1][0])\n",
    "\n"
   ]
  },
  {
   "cell_type": "code",
   "execution_count": 33,
   "metadata": {},
   "outputs": [],
   "source": [
    "label1np = np.array(labels1)\n",
    "label2np = np.array(labels2)"
   ]
  },
  {
   "cell_type": "code",
   "execution_count": 48,
   "metadata": {},
   "outputs": [
    {
     "name": "stdout",
     "output_type": "stream",
     "text": [
      "Jaccard scores for each class: [0.9939750840052808, 0.722969509149901, 0.3689429403379839]\n"
     ]
    }
   ],
   "source": [
    "#IoU = jaccard_score(label1np, label2np)\n",
    "classes = np.unique(np.concatenate((label1np.flatten(), label2np.flatten())))\n",
    "jaccard_scores = []\n",
    "#average_precision = average_precision_score(label1np.flatten(), label2np.flatten())\n",
    "\n",
    "\n",
    "for cls in classes:\n",
    "    true_mask = (label2np.flatten() == cls)\n",
    "    pred_mask = (label1np.flatten() == cls)\n",
    "\n",
    "    intersection = np.sum(true_mask & pred_mask)\n",
    "    union = np.sum(true_mask | pred_mask)\n",
    "\n",
    "    jaccard = intersection / union if union > 0 else 0\n",
    "    jaccard_scores.append(jaccard)\n",
    "\n",
    "# Average the Jaccard scores across all classes\n",
    "average_jaccard = np.mean(jaccard_scores)\n",
    "\n",
    "print(\"Jaccard scores for each class:\", jaccard_scores)\n",
    "\n",
    "#print(\"IoU: {}\".format(IoU))\n",
    "#print(\"Average Precision: {}\".format(average_precision))    "
   ]
  },
  {
   "cell_type": "code",
   "execution_count": 53,
   "metadata": {},
   "outputs": [
    {
     "data": {
      "text/plain": [
       "1.0"
      ]
     },
     "execution_count": 53,
     "metadata": {},
     "output_type": "execute_result"
    }
   ],
   "source": [
    "import tensorflow as tf\n",
    "\n",
    "score = tf.keras.metrics.MeanIoU(num_classes=3)\n",
    "score.update_state(label1np.flatten(), label2np.flatten())\n",
    "score.result().numpy()"
   ]
  }
 ],
 "metadata": {
  "kernelspec": {
   "display_name": "marcin",
   "language": "python",
   "name": "python3"
  },
  "language_info": {
   "codemirror_mode": {
    "name": "ipython",
    "version": 3
   },
   "file_extension": ".py",
   "mimetype": "text/x-python",
   "name": "python",
   "nbconvert_exporter": "python",
   "pygments_lexer": "ipython3",
   "version": "3.11.5"
  }
 },
 "nbformat": 4,
 "nbformat_minor": 2
}
