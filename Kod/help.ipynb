{
 "cells": [
  {
   "cell_type": "code",
   "execution_count": 1,
   "metadata": {},
   "outputs": [],
   "source": [
    "from models.Unet import UNet\n",
    "from dataset.data import BatchMaker\n",
    "import torch\n",
    "import yaml\n",
    "import numpy as np\n",
    "import matplotlib.pyplot as plt\n",
    "import random\n",
    "from sklearn.metrics import (\n",
    "    jaccard_score,\n",
    "    average_precision_score\n",
    ")\n"
   ]
  },
  {
   "cell_type": "code",
   "execution_count": 2,
   "metadata": {},
   "outputs": [
    {
     "name": "stdout",
     "output_type": "stream",
     "text": [
      "/media/marcin/Dysk lokalny/Programowanie/Python/Magisterka/Praca Dyplomowa/noisy_labels/Dataset/SegSperm/train\n"
     ]
    },
    {
     "ename": "KeyboardInterrupt",
     "evalue": "",
     "output_type": "error",
     "traceback": [
      "\u001b[0;31m---------------------------------------------------------------------------\u001b[0m",
      "\u001b[0;31mKeyboardInterrupt\u001b[0m                         Traceback (most recent call last)",
      "\u001b[1;32m/media/marcin/Dysk lokalny/Programowanie/Python/Magisterka/Praca Dyplomowa/noisy_labels/Kod/help.ipynb Cell 2\u001b[0m line \u001b[0;36m9\n\u001b[1;32m      <a href='vscode-notebook-cell:/media/marcin/Dysk%20lokalny/Programowanie/Python/Magisterka/Praca%20Dyplomowa/noisy_labels/Kod/help.ipynb#W1sZmlsZQ%3D%3D?line=4'>5</a>\u001b[0m     config \u001b[39m=\u001b[39m yaml\u001b[39m.\u001b[39msafe_load(config_file)\n\u001b[1;32m      <a href='vscode-notebook-cell:/media/marcin/Dysk%20lokalny/Programowanie/Python/Magisterka/Praca%20Dyplomowa/noisy_labels/Kod/help.ipynb#W1sZmlsZQ%3D%3D?line=5'>6</a>\u001b[0m model_path \u001b[39m=\u001b[39m config[\u001b[39m'\u001b[39m\u001b[39msave_model_path\u001b[39m\u001b[39m'\u001b[39m] \u001b[39m+\u001b[39m \u001b[39m'\u001b[39m\u001b[39m/mixedGT1_best_model\u001b[39m\u001b[39m'\u001b[39m\n\u001b[0;32m----> <a href='vscode-notebook-cell:/media/marcin/Dysk%20lokalny/Programowanie/Python/Magisterka/Praca%20Dyplomowa/noisy_labels/Kod/help.ipynb#W1sZmlsZQ%3D%3D?line=8'>9</a>\u001b[0m annotator1 \u001b[39m=\u001b[39m BatchMaker(config_path\u001b[39m=\u001b[39;49mpath_to_config, batch_size\u001b[39m=\u001b[39;49mBATCH, mode \u001b[39m=\u001b[39;49m \u001b[39m'\u001b[39;49m\u001b[39mall\u001b[39;49m\u001b[39m'\u001b[39;49m,segment \u001b[39m=\u001b[39;49m \u001b[39m'\u001b[39;49m\u001b[39mmixed\u001b[39;49m\u001b[39m'\u001b[39;49m,annotator\u001b[39m=\u001b[39;49m \u001b[39m1\u001b[39;49m)\n\u001b[1;32m     <a href='vscode-notebook-cell:/media/marcin/Dysk%20lokalny/Programowanie/Python/Magisterka/Praca%20Dyplomowa/noisy_labels/Kod/help.ipynb#W1sZmlsZQ%3D%3D?line=9'>10</a>\u001b[0m train_GT1 \u001b[39m=\u001b[39m annotator1\u001b[39m.\u001b[39mtrain_loader\n\u001b[1;32m     <a href='vscode-notebook-cell:/media/marcin/Dysk%20lokalny/Programowanie/Python/Magisterka/Praca%20Dyplomowa/noisy_labels/Kod/help.ipynb#W1sZmlsZQ%3D%3D?line=10'>11</a>\u001b[0m annotator2 \u001b[39m=\u001b[39m BatchMaker(config_path\u001b[39m=\u001b[39mpath_to_config, batch_size\u001b[39m=\u001b[39mBATCH, mode \u001b[39m=\u001b[39m \u001b[39m'\u001b[39m\u001b[39mall\u001b[39m\u001b[39m'\u001b[39m,segment \u001b[39m=\u001b[39m \u001b[39m'\u001b[39m\u001b[39mmixed\u001b[39m\u001b[39m'\u001b[39m,annotator\u001b[39m=\u001b[39m \u001b[39m2\u001b[39m)\n",
      "File \u001b[0;32m/media/marcin/Dysk lokalny/Programowanie/Python/Magisterka/Praca Dyplomowa/noisy_labels/Kod/dataset/data.py:72\u001b[0m, in \u001b[0;36mBatchMaker.__init__\u001b[0;34m(self, config_path, batch_size, mode, segment, annotator)\u001b[0m\n\u001b[1;32m     70\u001b[0m \u001b[39mself\u001b[39m\u001b[39m.\u001b[39mbatch_size \u001b[39m=\u001b[39m batch_size\n\u001b[1;32m     71\u001b[0m \u001b[39mif\u001b[39;00m mode \u001b[39m==\u001b[39m \u001b[39m'\u001b[39m\u001b[39mall\u001b[39m\u001b[39m'\u001b[39m:\n\u001b[0;32m---> 72\u001b[0m     x_train, y_train \u001b[39m=\u001b[39m \u001b[39mself\u001b[39;49m\u001b[39m.\u001b[39;49mprocess_data\u001b[39m.\u001b[39;49mprocess_dataset(\u001b[39m'\u001b[39;49m\u001b[39m/train\u001b[39;49m\u001b[39m'\u001b[39;49m)\n\u001b[1;32m     73\u001b[0m     x_val, y_val \u001b[39m=\u001b[39m \u001b[39mself\u001b[39m\u001b[39m.\u001b[39mprocess_data\u001b[39m.\u001b[39mprocess_dataset(\u001b[39m'\u001b[39m\u001b[39m/test_small\u001b[39m\u001b[39m'\u001b[39m)\n\u001b[1;32m     74\u001b[0m     x_test, y_test \u001b[39m=\u001b[39m \u001b[39mself\u001b[39m\u001b[39m.\u001b[39mprocess_data\u001b[39m.\u001b[39mprocess_dataset(\u001b[39m'\u001b[39m\u001b[39m/test\u001b[39m\u001b[39m'\u001b[39m)\n",
      "File \u001b[0;32m/media/marcin/Dysk lokalny/Programowanie/Python/Magisterka/Praca Dyplomowa/noisy_labels/Kod/dataset/data.py:60\u001b[0m, in \u001b[0;36mProcessData.process_dataset\u001b[0;34m(self, dataset_name)\u001b[0m\n\u001b[1;32m     58\u001b[0m     \u001b[39m# Save images\u001b[39;00m\n\u001b[1;32m     59\u001b[0m     X[n] \u001b[39m=\u001b[39m x_img \n\u001b[0;32m---> 60\u001b[0m     y[n] \u001b[39m=\u001b[39m mask \n\u001b[1;32m     62\u001b[0m \u001b[39mreturn\u001b[39;00m X, y\n",
      "\u001b[0;31mKeyboardInterrupt\u001b[0m: "
     ]
    }
   ],
   "source": [
    "BATCH = 1\n",
    "path_to_config = '/media/marcin/Dysk lokalny/Programowanie/Python/Magisterka/Praca Dyplomowa/noisy_labels/Kod/config/config.yaml'\n",
    "#path_to_config = '/media/cal314-1/9E044F59044F3415/Marcin/noisy_labels/Kod/config/config_lab.yaml'\n",
    "with open(path_to_config, 'r') as config_file:\n",
    "    config = yaml.safe_load(config_file)\n",
    "model_path = config['save_model_path'] + '/mixedGT1_best_model'\n",
    "\n",
    "\n",
    "annotator1 = BatchMaker(config_path=path_to_config, batch_size=BATCH, mode = 'all',segment = 'mixed',annotator= 1)\n",
    "train_GT1 = annotator1.train_loader\n",
    "annotator2 = BatchMaker(config_path=path_to_config, batch_size=BATCH, mode = 'all',segment = 'mixed',annotator= 2)\n",
    "train_GT2 = annotator2.train_loader\n"
   ]
  },
  {
   "cell_type": "code",
   "execution_count": 32,
   "metadata": {},
   "outputs": [],
   "source": [
    "import matplotlib.pyplot as plt \n",
    "\n",
    "labels1 = []\n",
    "labels2 = []\n",
    "for i in range(len(train_GT1.dataset)):\n",
    "    labels1.append(train_GT1.dataset.__getitem__(i)[1][0])\n",
    "    labels2.append(train_GT2.dataset.__getitem__(i)[1][0])\n",
    "\n"
   ]
  },
  {
   "cell_type": "code",
   "execution_count": 33,
   "metadata": {},
   "outputs": [],
   "source": [
    "label1np = np.array(labels1)\n",
    "label2np = np.array(labels2)"
   ]
  },
  {
   "cell_type": "code",
   "execution_count": 48,
   "metadata": {},
   "outputs": [
    {
     "name": "stdout",
     "output_type": "stream",
     "text": [
      "Jaccard scores for each class: [0.9939750840052808, 0.722969509149901, 0.3689429403379839]\n"
     ]
    }
   ],
   "source": [
    "#IoU = jaccard_score(label1np, label2np)\n",
    "classes = np.unique(np.concatenate((label1np.flatten(), label2np.flatten())))\n",
    "jaccard_scores = []\n",
    "#average_precision = average_precision_score(label1np.flatten(), label2np.flatten())\n",
    "\n",
    "\n",
    "for cls in classes:\n",
    "    true_mask = (label2np.flatten() == cls)\n",
    "    pred_mask = (label1np.flatten() == cls)\n",
    "\n",
    "    intersection = np.sum(true_mask & pred_mask)\n",
    "    union = np.sum(true_mask | pred_mask)\n",
    "\n",
    "    jaccard = intersection / union if union > 0 else 0\n",
    "    jaccard_scores.append(jaccard)\n",
    "\n",
    "# Average the Jaccard scores across all classes\n",
    "average_jaccard = np.mean(jaccard_scores)\n",
    "\n",
    "print(\"Jaccard scores for each class:\", jaccard_scores)\n",
    "\n",
    "#print(\"IoU: {}\".format(IoU))\n",
    "#print(\"Average Precision: {}\".format(average_precision))    "
   ]
  },
  {
   "cell_type": "code",
   "execution_count": 53,
   "metadata": {},
   "outputs": [
    {
     "data": {
      "text/plain": [
       "1.0"
      ]
     },
     "execution_count": 53,
     "metadata": {},
     "output_type": "execute_result"
    }
   ],
   "source": [
    "import tensorflow as tf\n",
    "\n",
    "score = tf.keras.metrics.MeanIoU(num_classes=3)\n",
    "score.update_state(label1np.flatten(), label2np.flatten())\n",
    "score.result().numpy()"
   ]
  },
  {
   "cell_type": "code",
   "execution_count": 1,
   "metadata": {},
   "outputs": [
    {
     "name": "stdout",
     "output_type": "stream",
     "text": [
      "/media/marcin/Dysk lokalny/Programowanie/Python/Magisterka/Praca Dyplomowa/noisy_labels/Dataset/SegSperm/test\n",
      "GPU dostępne: NVIDIA GeForce RTX 2060\n"
     ]
    }
   ],
   "source": [
    "from models.Unet import UNet\n",
    "from dataset.data import BatchMaker\n",
    "import torch\n",
    "import yaml\n",
    "import numpy as np\n",
    "import matplotlib.pyplot as plt\n",
    "import random\n",
    "from sklearn.metrics import (\n",
    "    jaccard_score,\n",
    "    average_precision_score\n",
    ")\n",
    "\n",
    "num_classes = 3\n",
    "BATCH = 1\n",
    "path_to_config = '/media/marcin/Dysk lokalny/Programowanie/Python/Magisterka/Praca Dyplomowa/noisy_labels/Kod/config/config.yaml'\n",
    "#path_to_config = '/media/cal314-1/9E044F59044F3415/Marcin/noisy_labels/Kod/config/config_lab.yaml'\n",
    "with open(path_to_config, 'r') as config_file:\n",
    "    config = yaml.safe_load(config_file)\n",
    "model_path = config['save_model_path'] + '/mixedGT1_best_model_2'\n",
    "\n",
    "\n",
    "batch_maker = BatchMaker(config_path=path_to_config, batch_size=BATCH, mode = 'test',segment = 'mixed',annotator= 1)\n",
    "test_loader = batch_maker.test_loader\n",
    "\n",
    "\n",
    "\n",
    "def plot_sample(X, y, preds, binary_preds, ix=None):\n",
    "    \"\"\"Function to plot the results\"\"\"\n",
    "    if ix is None:\n",
    "        ix = random.randint(0, len(X))\n",
    "\n",
    "    has_mask = y[ix].max() > 0\n",
    "\n",
    "    fig, ax = plt.subplots(1, 4,figsize=(20, 10))\n",
    "    ax[0].imshow(X[ix, ..., 0], cmap='seismic')\n",
    "    #if has_mask:\n",
    "        #ax[0].contour(y[ix].squeeze(), colors='k', levels=[0.5])\n",
    "    ax[0].set_title('Sperm Image')\n",
    "    ax[0].set_axis_off()\n",
    "\n",
    "    ax[1].imshow(y[ix].squeeze())\n",
    "    ax[1].set_title('Sperm Mask Image')\n",
    "    ax[1].set_axis_off()\n",
    "\n",
    "    ax[2].imshow(preds[ix].squeeze(), vmin=0, vmax=1)\n",
    "    #if has_mask:\n",
    "        #ax[2].contour(y[ix].squeeze(), colors='k', levels=[0.5])\n",
    "    ax[2].set_title('Sperm Image Predicted')\n",
    "    ax[2].set_axis_off()\n",
    "\n",
    "    ax[3].imshow(binary_preds[ix].squeeze(), vmin=0, vmax=1)\n",
    "    #if has_mask:\n",
    "        #ax[3].contour(y[ix].squeeze(), colors='k', levels=[0.5])\n",
    "    ax[3].set_title('Sperm Mask Image Predicted binary')\n",
    "    ax[3].set_axis_off()\n",
    "    plt.savefig(config['save_inf_fig_path']+'/{}.png'.format(ix))\n",
    "    plt.close()\n",
    "\n",
    "\n",
    "if torch.cuda.is_available():\n",
    "    gpu_name = torch.cuda.get_device_name(0)  \n",
    "    print(\"GPU dostępne:\", gpu_name ) \n",
    "    device = torch.device(\"cuda\")\n",
    "else:\n",
    "    raise Exception(\"Brak dostępnej karty GPU.\")\n",
    "\n",
    "model = UNet(3,num_classes)\n",
    "model.load_state_dict(torch.load(model_path)) \n",
    "model.to(device)\n",
    "model.eval() \n",
    "\n",
    "# Listy do przechowywania obrazów wejściowych, predykcji i etykiet \n",
    "input_images = []\n",
    "predicted_masks = []\n",
    "true_masks = []  \n",
    "\n",
    "# Pętla do przewidywania na danych testowych\n",
    "with torch.no_grad():\n",
    "    for inputs, labels in test_loader:\n",
    "        inputs = inputs.to(device)\n",
    "        outputs = model(inputs)\n",
    "\n",
    "    \n",
    "        input_images.append(inputs.cpu())\n",
    "        predicted_masks.append(outputs.cpu())\n",
    "        true_masks.append(labels.cpu())  \n",
    "\n",
    "input_images = np.concatenate(input_images, axis=0)\n",
    "true_masks = np.concatenate(true_masks, axis=0) \n",
    "predicted_masks = np.concatenate(predicted_masks, axis=0)\n",
    "\n",
    "# Threshold predictions\n",
    "x_images = input_images.transpose((0, 2, 3, 1))\n",
    "true = true_masks.transpose((0, 2, 3, 1))\n",
    "pred = predicted_masks.transpose((0, 2, 3, 1))\n",
    "\n",
    "threshold = 0.5\n",
    "true_masks_t = (true > threshold).astype(np.uint8)\n",
    "predicted_masks_t = (pred > threshold).astype(np.uint8)\n"
   ]
  },
  {
   "cell_type": "code",
   "execution_count": 1,
   "metadata": {},
   "outputs": [
    {
     "ename": "NameError",
     "evalue": "name 'plt' is not defined",
     "output_type": "error",
     "traceback": [
      "\u001b[0;31m---------------------------------------------------------------------------\u001b[0m",
      "\u001b[0;31mNameError\u001b[0m                                 Traceback (most recent call last)",
      "\u001b[1;32m/media/marcin/Dysk lokalny/Programowanie/Python/Magisterka/Praca Dyplomowa/noisy_labels/Kod/help.ipynb Cell 8\u001b[0m line \u001b[0;36m3\n\u001b[1;32m      <a href='vscode-notebook-cell:/media/marcin/Dysk%20lokalny/Programowanie/Python/Magisterka/Praca%20Dyplomowa/noisy_labels/Kod/help.ipynb#X11sZmlsZQ%3D%3D?line=0'>1</a>\u001b[0m number \u001b[39m=\u001b[39m \u001b[39m5\u001b[39m\n\u001b[0;32m----> <a href='vscode-notebook-cell:/media/marcin/Dysk%20lokalny/Programowanie/Python/Magisterka/Praca%20Dyplomowa/noisy_labels/Kod/help.ipynb#X11sZmlsZQ%3D%3D?line=2'>3</a>\u001b[0m fig, ax \u001b[39m=\u001b[39m plt\u001b[39m.\u001b[39msubplots(\u001b[39m1\u001b[39m, \u001b[39m3\u001b[39m,figsize\u001b[39m=\u001b[39m(\u001b[39m20\u001b[39m, \u001b[39m10\u001b[39m))\n\u001b[1;32m      <a href='vscode-notebook-cell:/media/marcin/Dysk%20lokalny/Programowanie/Python/Magisterka/Praca%20Dyplomowa/noisy_labels/Kod/help.ipynb#X11sZmlsZQ%3D%3D?line=3'>4</a>\u001b[0m ax[\u001b[39m0\u001b[39m]\u001b[39m.\u001b[39mimshow(x_images[number], vmin\u001b[39m=\u001b[39m\u001b[39m0\u001b[39m, vmax\u001b[39m=\u001b[39m\u001b[39m1\u001b[39m)\n\u001b[1;32m      <a href='vscode-notebook-cell:/media/marcin/Dysk%20lokalny/Programowanie/Python/Magisterka/Praca%20Dyplomowa/noisy_labels/Kod/help.ipynb#X11sZmlsZQ%3D%3D?line=4'>5</a>\u001b[0m ax[\u001b[39m0\u001b[39m]\u001b[39m.\u001b[39mset_title(\u001b[39m'\u001b[39m\u001b[39mSperm Image\u001b[39m\u001b[39m'\u001b[39m)\n",
      "\u001b[0;31mNameError\u001b[0m: name 'plt' is not defined"
     ]
    }
   ],
   "source": [
    "\n",
    "number = 5\n",
    "\n",
    "fig, ax = plt.subplots(1, 3,figsize=(20, 10))\n",
    "ax[0].imshow(x_images[number], vmin=0, vmax=1)\n",
    "ax[0].set_title('Sperm Image')\n",
    "ax[0].set_axis_off()\n",
    "ax[1].imshow(true[number], vmin=0, vmax=1)\n",
    "ax[1].set_title('Sperm Mask Image')\n",
    "ax[1].set_axis_off()\n",
    "ax[2].imshow(pred[number], vmin=0, vmax=1)\n",
    "    #if has_mask:\n",
    "        #ax[2].contour(y[ix].squeeze(), colors='k', levels=[0.5])\n",
    "ax[2].set_title('Sperm Image Predicted')\n",
    "ax[2].set_axis_off()"
   ]
  }
 ],
 "metadata": {
  "kernelspec": {
   "display_name": "marcin",
   "language": "python",
   "name": "python3"
  },
  "language_info": {
   "codemirror_mode": {
    "name": "ipython",
    "version": 3
   },
   "file_extension": ".py",
   "mimetype": "text/x-python",
   "name": "python",
   "nbconvert_exporter": "python",
   "pygments_lexer": "ipython3",
   "version": "3.11.3"
  }
 },
 "nbformat": 4,
 "nbformat_minor": 2
}
