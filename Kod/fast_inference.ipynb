{
 "cells": [
  {
   "cell_type": "code",
   "execution_count": 2,
   "id": "initial_id",
   "metadata": {
    "collapsed": true,
    "ExecuteTime": {
     "end_time": "2024-04-29T14:12:36.765036Z",
     "start_time": "2024-04-29T14:12:33.558100Z"
    }
   },
   "outputs": [
    {
     "name": "stdout",
     "output_type": "stream",
     "text": [
      "The history saving thread hit an unexpected error (OperationalError('attempt to write a readonly database')).History will not be written to the database.\n"
     ]
    },
    {
     "name": "stderr",
     "output_type": "stream",
     "text": [
      "/tmp/ipykernel_436912/2803100531.py:3: DeprecationWarning: \n",
      "Pyarrow will become a required dependency of pandas in the next major release of pandas (pandas 3.0),\n",
      "(to allow more performant data types, such as the Arrow string type, and better interoperability with other libraries)\n",
      "but was not found to be installed on your system.\n",
      "If this would cause problems for you,\n",
      "please provide us feedback at https://github.com/pandas-dev/pandas/issues/54466\n",
      "        \n",
      "  import pandas as pd\n"
     ]
    }
   ],
   "source": [
    "from models.Unet import UNet\n",
    "from dataset.data import BatchMaker\n",
    "import pandas as pd\n",
    "import torch\n",
    "import yaml\n",
    "import numpy as np\n",
    "import matplotlib.pyplot as plt\n",
    "import random\n",
    "import wandb\n",
    "import datetime\n",
    "from utils.metrics import SegmentationMetrics\n",
    "from utils.metrics2 import calculate_iou, calculate_ap_for_segmentation\n",
    "import segmentation_models_pytorch as smp\n",
    "import cv2\n",
    "import os"
   ]
  },
  {
   "cell_type": "code",
   "outputs": [
    {
     "name": "stdout",
     "output_type": "stream",
     "text": [
      "GPU dostępne: NVIDIA GeForce RTX 3090\n"
     ]
    }
   ],
   "source": [
    "num_classes = 4\n",
    "\n",
    "path_dict ={'laptop':'/home/nitro/Studia/Praca Dyplomowa/noisy_labels/Kod/config/config_laptop.yaml',\n",
    "            'lab':'/media/cal314-1/9E044F59044F3415/Marcin/noisy_labels/Kod/config/config_lab.yaml',\n",
    "            'komputer':'/media/marcin/Dysk lokalny/Programowanie/Python/Magisterka/Praca Dyplomowa/noisy_labels/Kod/config/config.yaml'\n",
    "            } \n",
    "\n",
    "model_dict = {'myUNet': UNet(3,num_classes),\n",
    "              'smpUNet': smp.Unet(in_channels = 3, classes=num_classes),\n",
    "              'smpUNet++': smp.UnetPlusPlus(in_channels = 3, classes=num_classes,encoder_name=\"resnet18\",encoder_weights=None),\n",
    "}\n",
    "\n",
    "\n",
    "# wandb.init(project=\"noisy_labels\", entity=\"segsperm\",\n",
    "#             config={\n",
    "#             \"model\": \"smpUNet++\",\n",
    "#             \"batch_size\": 1,\n",
    "#             \"annotator\": 1,\n",
    "#             \"place\": 'lab',\n",
    "#             \"mode\": \"intersection_inference\"\n",
    "#             })\n",
    "# \n",
    "# config = wandb.config\n",
    "\n",
    "with open(path_dict[config.place], 'r') as config_file:\n",
    "    yaml_config = yaml.safe_load(config_file)\n",
    "\n",
    "saved_model_name = 'Annotator_1_Model_smpUNet++_Augmentation_True_Modemulticlass_Optimizer_Adam_Scheduler_CosineAnnealingLR_Epochs_300_Batch_Size_6_Start_lr_0.001_Loss_CrossEntropyLoss_Timestamp_2024-04-27-18-20_best_model_iou_multiclass'\n",
    "model_path = yaml_config['save_model_path'] + '/' + saved_model_name\n",
    "\n",
    "if torch.cuda.is_available():\n",
    "    gpu_name = torch.cuda.get_device_name(0)  \n",
    "    print(\"GPU dostępne:\", gpu_name ) \n",
    "    device = torch.device(\"cuda\")\n",
    "else:\n",
    "    raise Exception(\"Brak dostępnej karty GPU.\")\n",
    "\n",
    "\n",
    "model = model_dict[config.model]\n",
    "model.load_state_dict(torch.load(model_path)) \n",
    "model.to(device)\n",
    "\n",
    "\n",
    "img = cv2.imread(\"/media/cal314-1/9E044F59044F3415/Marcin/noisy_labels/example_blur.png\")\n",
    "x_img = img.astype(np.float32)\n",
    "\n",
    "# Normalize images\n",
    "min_val = np.min(x_img)\n",
    "max_val = np.max(x_img)\n",
    "x_img = (x_img - min_val) / (max_val - min_val)\n",
    "x_img = np.expand_dims(x_img, axis=0)\n",
    "x = np.transpose(x_img,(0,3,1,2))\n",
    "x_tensor = torch.from_numpy(x)\n",
    "\n",
    "inputs = x_tensor.to(device)\n",
    "outputs = model(inputs)\n",
    "output1 = outputs[:,:3, :, :]\n",
    "output2 = outputs[:,[0, -1], :, :]\n",
    "\n",
    "preds1 = torch.argmax(output1, dim=1)\n",
    "preds2 = torch.argmax(output2, dim=1)\n",
    "softs1 = torch.softmax(output1, dim=1)\n",
    "softs1 = softs1.squeeze(0)\n",
    "softs2 = torch.softmax(output2, dim=1)\n",
    "softs2 = softs2.squeeze(0)\n",
    "\n",
    "threshold_oneclass = 0.2953\n",
    "threshold_head = 0.4606\n",
    "threshold_tail = 0.6378\n",
    "\n",
    "\n",
    "\n",
    "softmask_multiclass_np = np.array(softs1.cpu().detach())\n",
    "softmask_multiclass_np = softmask_multiclass_np.transpose(1,2,0)\n",
    "\n",
    "softmask_head_np = softmask_multiclass_np[:,:,2]\n",
    "softmask_tail_np = softmask_multiclass_np[:,:,1]\n",
    "\n",
    "softmask_oneclass_np = np.array(softs2.cpu().detach())\n",
    "softmask_oneclass_np = softmask_oneclass_np.transpose(1,2,0)\n",
    "\n",
    "\n",
    "\n",
    "\n",
    "pred_head = (softmask_head_np > threshold_head).astype(float)\n",
    "pred_tail = (softmask_tail_np > threshold_tail).astype(float)\n",
    "\n",
    "\n",
    "final_mask = np.zeros_like(pred_head)\n",
    "conflict = (pred_head == 1) & (pred_tail == 1)\n",
    "tail_conflict_values = softmask_tail_np[conflict]\n",
    "head_conflict_values = softmask_head_np[conflict]\n",
    "final_mask[conflict] = 2 - (tail_conflict_values > head_conflict_values).astype(int)  # 1 dla tail, 2 dla head\n",
    "final_mask[(pred_tail == 1) & ~conflict] = 1\n",
    "final_mask[(pred_head == 1) & ~conflict] = 2\n",
    "\n",
    "pred_oneclass = (softmask_oneclass_np > threshold_oneclass).astype(float)\n",
    "pred_oneclass = pred_oneclass[:,:,1]\n",
    "\n"
   ],
   "metadata": {
    "collapsed": false,
    "ExecuteTime": {
     "end_time": "2024-04-29T14:36:02.091227Z",
     "start_time": "2024-04-29T14:36:01.429149Z"
    }
   },
   "id": "91bc60aaee76973c",
   "execution_count": 16
  },
  {
   "cell_type": "code",
   "outputs": [],
   "source": [
    "colors = [[0, 0, 0], [0, 255, 0], [0, 0, 255]]  # tło, wić, główka\n",
    "\n",
    "output = final_mask\n",
    "new_mask2 = np.zeros((512, 512))\n",
    "for i in range(3):\n",
    "    new_mask2[final_mask[i] == 1] = i\n",
    "    \n",
    "mask_to_display = final_mask\n",
    "\n",
    "mask_rgb = np.zeros((mask_to_display.shape[0], mask_to_display.shape[1], 3), dtype=np.uint8)\n",
    "for i, color in enumerate(colors):\n",
    "    mask_rgb[mask_to_display == i] = color"
   ],
   "metadata": {
    "collapsed": false,
    "ExecuteTime": {
     "end_time": "2024-04-29T14:37:42.150708Z",
     "start_time": "2024-04-29T14:37:42.139517Z"
    }
   },
   "id": "7c11720cb0c5006b",
   "execution_count": 25
  },
  {
   "cell_type": "code",
   "outputs": [
    {
     "data": {
      "text/plain": "True"
     },
     "execution_count": 26,
     "metadata": {},
     "output_type": "execute_result"
    },
    {
     "data": {
      "text/plain": "<Figure size 1500x500 with 3 Axes>",
      "image/png": "[encoded data removed]"
     },
     "metadata": {},
     "output_type": "display_data"
    },
    {
     "data": {
      "text/plain": "<Figure size 1500x500 with 1 Axes>",
      "image/png": "[encoded data removed]"
     },
     "metadata": {},
     "output_type": "display_data"
    }
   ],
   "source": [
    "plt.figure(figsize=(15,5))\n",
    "plt.subplot(1,3,1)\n",
    "plt.imshow(mask_rgb)\n",
    "plt.axis('off')\n",
    "plt.subplot(1,3,2)\n",
    "plt.imshow(pred_head)\n",
    "plt.axis('off')\n",
    "plt.subplot(1,3,3)\n",
    "plt.imshow(pred_tail)\n",
    "plt.axis('off')\n",
    "plt.figure(figsize=(15,5))\n",
    "plt.imshow(pred_oneclass)\n",
    "plt.axis('off')\n",
    "\n",
    "cv2.imwrite(\"/media/cal314-1/9E044F59044F3415/Marcin/noisy_labels/final_pred.png\", mask_rgb)"
   ],
   "metadata": {
    "collapsed": false,
    "ExecuteTime": {
     "end_time": "2024-04-29T14:37:45.501746Z",
     "start_time": "2024-04-29T14:37:45.354460Z"
    }
   },
   "id": "251d6187abe81044",
   "execution_count": 26
  },
  {
   "cell_type": "code",
   "outputs": [
    {
     "data": {
      "text/plain": "True"
     },
     "execution_count": 30,
     "metadata": {},
     "output_type": "execute_result"
    },
    {
     "data": {
      "text/plain": "<Figure size 1500x500 with 3 Axes>",
      "image/png": "[encoded data removed]"
     },
     "metadata": {},
     "output_type": "display_data"
    }
   ],
   "source": [
    "plt.figure(figsize=(15,5))\n",
    "plt.subplot(1,3,1)\n",
    "plt.imshow(softmask_head_np,cmap='gray')\n",
    "plt.axis('off')\n",
    "plt.subplot(1,3,2)\n",
    "plt.imshow(softmask_tail_np,cmap='gray')\n",
    "plt.axis('off')\n",
    "plt.subplot(1,3,3)\n",
    "plt.imshow(softmask_tail_np+softmask_head_np,cmap='gray')\n",
    "plt.axis('off')\n",
    "\n",
    "cv2.imwrite(\"/media/cal314-1/9E044F59044F3415/Marcin/noisy_labels/softmask_full.png\", (softmask_tail_np+softmask_head_np)*255)\n",
    "cv2.imwrite(\"/media/cal314-1/9E044F59044F3415/Marcin/noisy_labels/softmask_head.png\", softmask_head_np*255)\n",
    "cv2.imwrite(\"/media/cal314-1/9E044F59044F3415/Marcin/noisy_labels/softmask_tail.png\", softmask_tail_np*255)\n"
   ],
   "metadata": {
    "collapsed": false,
    "ExecuteTime": {
     "end_time": "2024-04-29T14:41:15.955199Z",
     "start_time": "2024-04-29T14:41:15.812796Z"
    }
   },
   "id": "2d8e0fbb3326e30",
   "execution_count": 30
  },
  {
   "cell_type": "code",
   "outputs": [
    {
     "data": {
      "text/plain": "(-0.5, 511.5, 511.5, -0.5)"
     },
     "execution_count": 68,
     "metadata": {},
     "output_type": "execute_result"
    },
    {
     "data": {
      "text/plain": "<Figure size 1500x500 with 2 Axes>",
      "image/png": "[encoded data removed]"
     },
     "metadata": {},
     "output_type": "display_data"
    }
   ],
   "source": [
    "plt.figure(figsize=(15,5))\n",
    "plt.subplot(1,2,1)\n",
    "plt.imshow(preds1.cpu().detach().numpy().transpose(1,2,0))\n",
    "plt.axis('off')\n",
    "plt.subplot(1,2,2)\n",
    "plt.imshow(preds2.cpu().detach().numpy().transpose(1,2,0))\n",
    "plt.axis('off')"
   ],
   "metadata": {
    "collapsed": false,
    "ExecuteTime": {
     "end_time": "2024-04-25T10:58:39.963762Z",
     "start_time": "2024-04-25T10:58:39.891755Z"
    }
   },
   "id": "e9b965de9a3c1b91",
   "execution_count": 68
  }
 ],
 "metadata": {
  "kernelspec": {
   "display_name": "Python 3",
   "language": "python",
   "name": "python3"
  },
  "language_info": {
   "codemirror_mode": {
    "name": "ipython",
    "version": 2
   },
   "file_extension": ".py",
   "mimetype": "text/x-python",
   "name": "python",
   "nbconvert_exporter": "python",
   "pygments_lexer": "ipython2",
   "version": "2.7.6"
  }
 },
 "nbformat": 4,
 "nbformat_minor": 5
}
