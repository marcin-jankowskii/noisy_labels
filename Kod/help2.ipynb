{
 "cells": [
  {
   "cell_type": "code",
   "execution_count": 4,
   "metadata": {},
   "outputs": [],
   "source": [
    "from models.Unet import UNet\n",
    "from dataset.data import BatchMaker\n",
    "from utils.metrics import SegmentationMetrics\n",
    "import torch\n",
    "import yaml\n",
    "import numpy as np\n",
    "import matplotlib.pyplot as plt\n",
    "\n"
   ]
  },
  {
   "cell_type": "code",
   "execution_count": 5,
   "metadata": {},
   "outputs": [
    {
     "name": "stdout",
     "output_type": "stream",
     "text": [
      "/media/cal314-1/9E044F59044F3415/Marcin/noisy_labels/Dataset/SegSperm/train\n",
      "/media/cal314-1/9E044F59044F3415/Marcin/noisy_labels/Dataset/SegSperm/test_small\n",
      "/media/cal314-1/9E044F59044F3415/Marcin/noisy_labels/Dataset/SegSperm/test\n",
      "/media/cal314-1/9E044F59044F3415/Marcin/noisy_labels/Dataset/SegSperm/train\n",
      "/media/cal314-1/9E044F59044F3415/Marcin/noisy_labels/Dataset/SegSperm/test_small\n",
      "/media/cal314-1/9E044F59044F3415/Marcin/noisy_labels/Dataset/SegSperm/test\n"
     ]
    }
   ],
   "source": [
    "BATCH = 1\n",
    "path_to_config = '/media/cal314-1/9E044F59044F3415/Marcin/noisy_labels/Kod/config/config_lab.yaml'\n",
    "with open(path_to_config, 'r') as config_file:\n",
    "    config = yaml.safe_load(config_file)\n",
    "model_path = config['save_model_path'] + '/mixedGT1_best_model'\n",
    "\n",
    "\n",
    "annotator1 = BatchMaker(config_path=path_to_config, batch_size=BATCH, mode = 'all',segment = 'mixed',annotator= 1)\n",
    "train_GT1 = annotator1.train_loader\n",
    "annotator2 = BatchMaker(config_path=path_to_config, batch_size=BATCH, mode = 'all',segment = 'mixed',annotator= 2)\n",
    "train_GT2 = annotator2.train_loader"
   ]
  },
  {
   "cell_type": "code",
   "execution_count": 6,
   "metadata": {},
   "outputs": [
    {
     "ename": "TypeError",
     "evalue": "Invalid shape (4, 512, 512) for image data",
     "output_type": "error",
     "traceback": [
      "\u001B[0;31m---------------------------------------------------------------------------\u001B[0m",
      "\u001B[0;31mTypeError\u001B[0m                                 Traceback (most recent call last)",
      "Cell \u001B[0;32mIn[6], line 40\u001B[0m\n\u001B[1;32m     38\u001B[0m plt\u001B[38;5;241m.\u001B[39mfigure(figsize\u001B[38;5;241m=\u001B[39m(\u001B[38;5;241m10\u001B[39m, \u001B[38;5;241m10\u001B[39m))\n\u001B[1;32m     39\u001B[0m plt\u001B[38;5;241m.\u001B[39msubplot(\u001B[38;5;241m1\u001B[39m, \u001B[38;5;241m2\u001B[39m, \u001B[38;5;241m1\u001B[39m)\n\u001B[0;32m---> 40\u001B[0m \u001B[43mplt\u001B[49m\u001B[38;5;241;43m.\u001B[39;49m\u001B[43mimshow\u001B[49m\u001B[43m(\u001B[49m\u001B[43mclass_masks\u001B[49m\u001B[43m[\u001B[49m\u001B[38;5;241;43m2\u001B[39;49m\u001B[43m]\u001B[49m\u001B[43m)\u001B[49m\n\u001B[1;32m     41\u001B[0m plt\u001B[38;5;241m.\u001B[39maxis(\u001B[38;5;124m'\u001B[39m\u001B[38;5;124moff\u001B[39m\u001B[38;5;124m'\u001B[39m)\n\u001B[1;32m     42\u001B[0m plt\u001B[38;5;241m.\u001B[39msubplot(\u001B[38;5;241m1\u001B[39m, \u001B[38;5;241m2\u001B[39m, \u001B[38;5;241m2\u001B[39m)\n",
      "File \u001B[0;32m~/miniconda3/envs/marcinv2/lib/python3.11/site-packages/matplotlib/pyplot.py:3343\u001B[0m, in \u001B[0;36mimshow\u001B[0;34m(X, cmap, norm, aspect, interpolation, alpha, vmin, vmax, origin, extent, interpolation_stage, filternorm, filterrad, resample, url, data, **kwargs)\u001B[0m\n\u001B[1;32m   3322\u001B[0m \u001B[38;5;129m@_copy_docstring_and_deprecators\u001B[39m(Axes\u001B[38;5;241m.\u001B[39mimshow)\n\u001B[1;32m   3323\u001B[0m \u001B[38;5;28;01mdef\u001B[39;00m \u001B[38;5;21mimshow\u001B[39m(\n\u001B[1;32m   3324\u001B[0m     X: ArrayLike \u001B[38;5;241m|\u001B[39m PIL\u001B[38;5;241m.\u001B[39mImage\u001B[38;5;241m.\u001B[39mImage,\n\u001B[0;32m   (...)\u001B[0m\n\u001B[1;32m   3341\u001B[0m     \u001B[38;5;241m*\u001B[39m\u001B[38;5;241m*\u001B[39mkwargs,\n\u001B[1;32m   3342\u001B[0m ) \u001B[38;5;241m-\u001B[39m\u001B[38;5;241m>\u001B[39m AxesImage:\n\u001B[0;32m-> 3343\u001B[0m     __ret \u001B[38;5;241m=\u001B[39m \u001B[43mgca\u001B[49m\u001B[43m(\u001B[49m\u001B[43m)\u001B[49m\u001B[38;5;241;43m.\u001B[39;49m\u001B[43mimshow\u001B[49m\u001B[43m(\u001B[49m\n\u001B[1;32m   3344\u001B[0m \u001B[43m        \u001B[49m\u001B[43mX\u001B[49m\u001B[43m,\u001B[49m\n\u001B[1;32m   3345\u001B[0m \u001B[43m        \u001B[49m\u001B[43mcmap\u001B[49m\u001B[38;5;241;43m=\u001B[39;49m\u001B[43mcmap\u001B[49m\u001B[43m,\u001B[49m\n\u001B[1;32m   3346\u001B[0m \u001B[43m        \u001B[49m\u001B[43mnorm\u001B[49m\u001B[38;5;241;43m=\u001B[39;49m\u001B[43mnorm\u001B[49m\u001B[43m,\u001B[49m\n\u001B[1;32m   3347\u001B[0m \u001B[43m        \u001B[49m\u001B[43maspect\u001B[49m\u001B[38;5;241;43m=\u001B[39;49m\u001B[43maspect\u001B[49m\u001B[43m,\u001B[49m\n\u001B[1;32m   3348\u001B[0m \u001B[43m        \u001B[49m\u001B[43minterpolation\u001B[49m\u001B[38;5;241;43m=\u001B[39;49m\u001B[43minterpolation\u001B[49m\u001B[43m,\u001B[49m\n\u001B[1;32m   3349\u001B[0m \u001B[43m        \u001B[49m\u001B[43malpha\u001B[49m\u001B[38;5;241;43m=\u001B[39;49m\u001B[43malpha\u001B[49m\u001B[43m,\u001B[49m\n\u001B[1;32m   3350\u001B[0m \u001B[43m        \u001B[49m\u001B[43mvmin\u001B[49m\u001B[38;5;241;43m=\u001B[39;49m\u001B[43mvmin\u001B[49m\u001B[43m,\u001B[49m\n\u001B[1;32m   3351\u001B[0m \u001B[43m        \u001B[49m\u001B[43mvmax\u001B[49m\u001B[38;5;241;43m=\u001B[39;49m\u001B[43mvmax\u001B[49m\u001B[43m,\u001B[49m\n\u001B[1;32m   3352\u001B[0m \u001B[43m        \u001B[49m\u001B[43morigin\u001B[49m\u001B[38;5;241;43m=\u001B[39;49m\u001B[43morigin\u001B[49m\u001B[43m,\u001B[49m\n\u001B[1;32m   3353\u001B[0m \u001B[43m        \u001B[49m\u001B[43mextent\u001B[49m\u001B[38;5;241;43m=\u001B[39;49m\u001B[43mextent\u001B[49m\u001B[43m,\u001B[49m\n\u001B[1;32m   3354\u001B[0m \u001B[43m        \u001B[49m\u001B[43minterpolation_stage\u001B[49m\u001B[38;5;241;43m=\u001B[39;49m\u001B[43minterpolation_stage\u001B[49m\u001B[43m,\u001B[49m\n\u001B[1;32m   3355\u001B[0m \u001B[43m        \u001B[49m\u001B[43mfilternorm\u001B[49m\u001B[38;5;241;43m=\u001B[39;49m\u001B[43mfilternorm\u001B[49m\u001B[43m,\u001B[49m\n\u001B[1;32m   3356\u001B[0m \u001B[43m        \u001B[49m\u001B[43mfilterrad\u001B[49m\u001B[38;5;241;43m=\u001B[39;49m\u001B[43mfilterrad\u001B[49m\u001B[43m,\u001B[49m\n\u001B[1;32m   3357\u001B[0m \u001B[43m        \u001B[49m\u001B[43mresample\u001B[49m\u001B[38;5;241;43m=\u001B[39;49m\u001B[43mresample\u001B[49m\u001B[43m,\u001B[49m\n\u001B[1;32m   3358\u001B[0m \u001B[43m        \u001B[49m\u001B[43murl\u001B[49m\u001B[38;5;241;43m=\u001B[39;49m\u001B[43murl\u001B[49m\u001B[43m,\u001B[49m\n\u001B[1;32m   3359\u001B[0m \u001B[43m        \u001B[49m\u001B[38;5;241;43m*\u001B[39;49m\u001B[38;5;241;43m*\u001B[39;49m\u001B[43m(\u001B[49m\u001B[43m{\u001B[49m\u001B[38;5;124;43m\"\u001B[39;49m\u001B[38;5;124;43mdata\u001B[39;49m\u001B[38;5;124;43m\"\u001B[39;49m\u001B[43m:\u001B[49m\u001B[43m \u001B[49m\u001B[43mdata\u001B[49m\u001B[43m}\u001B[49m\u001B[43m \u001B[49m\u001B[38;5;28;43;01mif\u001B[39;49;00m\u001B[43m \u001B[49m\u001B[43mdata\u001B[49m\u001B[43m \u001B[49m\u001B[38;5;129;43;01mis\u001B[39;49;00m\u001B[43m \u001B[49m\u001B[38;5;129;43;01mnot\u001B[39;49;00m\u001B[43m \u001B[49m\u001B[38;5;28;43;01mNone\u001B[39;49;00m\u001B[43m \u001B[49m\u001B[38;5;28;43;01melse\u001B[39;49;00m\u001B[43m \u001B[49m\u001B[43m{\u001B[49m\u001B[43m}\u001B[49m\u001B[43m)\u001B[49m\u001B[43m,\u001B[49m\n\u001B[1;32m   3360\u001B[0m \u001B[43m        \u001B[49m\u001B[38;5;241;43m*\u001B[39;49m\u001B[38;5;241;43m*\u001B[39;49m\u001B[43mkwargs\u001B[49m\u001B[43m,\u001B[49m\n\u001B[1;32m   3361\u001B[0m \u001B[43m    \u001B[49m\u001B[43m)\u001B[49m\n\u001B[1;32m   3362\u001B[0m     sci(__ret)\n\u001B[1;32m   3363\u001B[0m     \u001B[38;5;28;01mreturn\u001B[39;00m __ret\n",
      "File \u001B[0;32m~/miniconda3/envs/marcinv2/lib/python3.11/site-packages/matplotlib/__init__.py:1465\u001B[0m, in \u001B[0;36m_preprocess_data.<locals>.inner\u001B[0;34m(ax, data, *args, **kwargs)\u001B[0m\n\u001B[1;32m   1462\u001B[0m \u001B[38;5;129m@functools\u001B[39m\u001B[38;5;241m.\u001B[39mwraps(func)\n\u001B[1;32m   1463\u001B[0m \u001B[38;5;28;01mdef\u001B[39;00m \u001B[38;5;21minner\u001B[39m(ax, \u001B[38;5;241m*\u001B[39margs, data\u001B[38;5;241m=\u001B[39m\u001B[38;5;28;01mNone\u001B[39;00m, \u001B[38;5;241m*\u001B[39m\u001B[38;5;241m*\u001B[39mkwargs):\n\u001B[1;32m   1464\u001B[0m     \u001B[38;5;28;01mif\u001B[39;00m data \u001B[38;5;129;01mis\u001B[39;00m \u001B[38;5;28;01mNone\u001B[39;00m:\n\u001B[0;32m-> 1465\u001B[0m         \u001B[38;5;28;01mreturn\u001B[39;00m \u001B[43mfunc\u001B[49m\u001B[43m(\u001B[49m\u001B[43max\u001B[49m\u001B[43m,\u001B[49m\u001B[43m \u001B[49m\u001B[38;5;241;43m*\u001B[39;49m\u001B[38;5;28;43mmap\u001B[39;49m\u001B[43m(\u001B[49m\u001B[43msanitize_sequence\u001B[49m\u001B[43m,\u001B[49m\u001B[43m \u001B[49m\u001B[43margs\u001B[49m\u001B[43m)\u001B[49m\u001B[43m,\u001B[49m\u001B[43m \u001B[49m\u001B[38;5;241;43m*\u001B[39;49m\u001B[38;5;241;43m*\u001B[39;49m\u001B[43mkwargs\u001B[49m\u001B[43m)\u001B[49m\n\u001B[1;32m   1467\u001B[0m     bound \u001B[38;5;241m=\u001B[39m new_sig\u001B[38;5;241m.\u001B[39mbind(ax, \u001B[38;5;241m*\u001B[39margs, \u001B[38;5;241m*\u001B[39m\u001B[38;5;241m*\u001B[39mkwargs)\n\u001B[1;32m   1468\u001B[0m     auto_label \u001B[38;5;241m=\u001B[39m (bound\u001B[38;5;241m.\u001B[39marguments\u001B[38;5;241m.\u001B[39mget(label_namer)\n\u001B[1;32m   1469\u001B[0m                   \u001B[38;5;129;01mor\u001B[39;00m bound\u001B[38;5;241m.\u001B[39mkwargs\u001B[38;5;241m.\u001B[39mget(label_namer))\n",
      "File \u001B[0;32m~/miniconda3/envs/marcinv2/lib/python3.11/site-packages/matplotlib/axes/_axes.py:5756\u001B[0m, in \u001B[0;36mAxes.imshow\u001B[0;34m(self, X, cmap, norm, aspect, interpolation, alpha, vmin, vmax, origin, extent, interpolation_stage, filternorm, filterrad, resample, url, **kwargs)\u001B[0m\n\u001B[1;32m   5753\u001B[0m \u001B[38;5;28;01mif\u001B[39;00m aspect \u001B[38;5;129;01mis\u001B[39;00m \u001B[38;5;129;01mnot\u001B[39;00m \u001B[38;5;28;01mNone\u001B[39;00m:\n\u001B[1;32m   5754\u001B[0m     \u001B[38;5;28mself\u001B[39m\u001B[38;5;241m.\u001B[39mset_aspect(aspect)\n\u001B[0;32m-> 5756\u001B[0m \u001B[43mim\u001B[49m\u001B[38;5;241;43m.\u001B[39;49m\u001B[43mset_data\u001B[49m\u001B[43m(\u001B[49m\u001B[43mX\u001B[49m\u001B[43m)\u001B[49m\n\u001B[1;32m   5757\u001B[0m im\u001B[38;5;241m.\u001B[39mset_alpha(alpha)\n\u001B[1;32m   5758\u001B[0m \u001B[38;5;28;01mif\u001B[39;00m im\u001B[38;5;241m.\u001B[39mget_clip_path() \u001B[38;5;129;01mis\u001B[39;00m \u001B[38;5;28;01mNone\u001B[39;00m:\n\u001B[1;32m   5759\u001B[0m     \u001B[38;5;66;03m# image does not already have clipping set, clip to axes patch\u001B[39;00m\n",
      "File \u001B[0;32m~/miniconda3/envs/marcinv2/lib/python3.11/site-packages/matplotlib/image.py:723\u001B[0m, in \u001B[0;36m_ImageBase.set_data\u001B[0;34m(self, A)\u001B[0m\n\u001B[1;32m    721\u001B[0m \u001B[38;5;28;01mif\u001B[39;00m \u001B[38;5;28misinstance\u001B[39m(A, PIL\u001B[38;5;241m.\u001B[39mImage\u001B[38;5;241m.\u001B[39mImage):\n\u001B[1;32m    722\u001B[0m     A \u001B[38;5;241m=\u001B[39m pil_to_array(A)  \u001B[38;5;66;03m# Needed e.g. to apply png palette.\u001B[39;00m\n\u001B[0;32m--> 723\u001B[0m \u001B[38;5;28mself\u001B[39m\u001B[38;5;241m.\u001B[39m_A \u001B[38;5;241m=\u001B[39m \u001B[38;5;28;43mself\u001B[39;49m\u001B[38;5;241;43m.\u001B[39;49m\u001B[43m_normalize_image_array\u001B[49m\u001B[43m(\u001B[49m\u001B[43mA\u001B[49m\u001B[43m)\u001B[49m\n\u001B[1;32m    724\u001B[0m \u001B[38;5;28mself\u001B[39m\u001B[38;5;241m.\u001B[39m_imcache \u001B[38;5;241m=\u001B[39m \u001B[38;5;28;01mNone\u001B[39;00m\n\u001B[1;32m    725\u001B[0m \u001B[38;5;28mself\u001B[39m\u001B[38;5;241m.\u001B[39mstale \u001B[38;5;241m=\u001B[39m \u001B[38;5;28;01mTrue\u001B[39;00m\n",
      "File \u001B[0;32m~/miniconda3/envs/marcinv2/lib/python3.11/site-packages/matplotlib/image.py:693\u001B[0m, in \u001B[0;36m_ImageBase._normalize_image_array\u001B[0;34m(A)\u001B[0m\n\u001B[1;32m    691\u001B[0m     A \u001B[38;5;241m=\u001B[39m A\u001B[38;5;241m.\u001B[39msqueeze(\u001B[38;5;241m-\u001B[39m\u001B[38;5;241m1\u001B[39m)  \u001B[38;5;66;03m# If just (M, N, 1), assume scalar and apply colormap.\u001B[39;00m\n\u001B[1;32m    692\u001B[0m \u001B[38;5;28;01mif\u001B[39;00m \u001B[38;5;129;01mnot\u001B[39;00m (A\u001B[38;5;241m.\u001B[39mndim \u001B[38;5;241m==\u001B[39m \u001B[38;5;241m2\u001B[39m \u001B[38;5;129;01mor\u001B[39;00m A\u001B[38;5;241m.\u001B[39mndim \u001B[38;5;241m==\u001B[39m \u001B[38;5;241m3\u001B[39m \u001B[38;5;129;01mand\u001B[39;00m A\u001B[38;5;241m.\u001B[39mshape[\u001B[38;5;241m-\u001B[39m\u001B[38;5;241m1\u001B[39m] \u001B[38;5;129;01min\u001B[39;00m [\u001B[38;5;241m3\u001B[39m, \u001B[38;5;241m4\u001B[39m]):\n\u001B[0;32m--> 693\u001B[0m     \u001B[38;5;28;01mraise\u001B[39;00m \u001B[38;5;167;01mTypeError\u001B[39;00m(\u001B[38;5;124mf\u001B[39m\u001B[38;5;124m\"\u001B[39m\u001B[38;5;124mInvalid shape \u001B[39m\u001B[38;5;132;01m{\u001B[39;00mA\u001B[38;5;241m.\u001B[39mshape\u001B[38;5;132;01m}\u001B[39;00m\u001B[38;5;124m for image data\u001B[39m\u001B[38;5;124m\"\u001B[39m)\n\u001B[1;32m    694\u001B[0m \u001B[38;5;28;01mif\u001B[39;00m A\u001B[38;5;241m.\u001B[39mndim \u001B[38;5;241m==\u001B[39m \u001B[38;5;241m3\u001B[39m:\n\u001B[1;32m    695\u001B[0m     \u001B[38;5;66;03m# If the input data has values outside the valid range (after\u001B[39;00m\n\u001B[1;32m    696\u001B[0m     \u001B[38;5;66;03m# normalisation), we issue a warning and then clip X to the bounds\u001B[39;00m\n\u001B[1;32m    697\u001B[0m     \u001B[38;5;66;03m# - otherwise casting wraps extreme values, hiding outliers and\u001B[39;00m\n\u001B[1;32m    698\u001B[0m     \u001B[38;5;66;03m# making reliable interpretation impossible.\u001B[39;00m\n\u001B[1;32m    699\u001B[0m     high \u001B[38;5;241m=\u001B[39m \u001B[38;5;241m255\u001B[39m \u001B[38;5;28;01mif\u001B[39;00m np\u001B[38;5;241m.\u001B[39missubdtype(A\u001B[38;5;241m.\u001B[39mdtype, np\u001B[38;5;241m.\u001B[39minteger) \u001B[38;5;28;01melse\u001B[39;00m \u001B[38;5;241m1\u001B[39m\n",
      "\u001B[0;31mTypeError\u001B[0m: Invalid shape (4, 512, 512) for image data"
     ]
    },
    {
     "data": {
      "image/png": "[encoded data removed]",
      "text/plain": [
       "<Figure size 1000x1000 with 1 Axes>"
      ]
     },
     "metadata": {},
     "output_type": "display_data"
    }
   ],
   "source": [
    "from sklearn.metrics import (\n",
    "    jaccard_score,\n",
    "    average_precision_score\n",
    ")\n",
    "from utils.metrics import SegmentationMetrics\n",
    "import seaborn as sns\n",
    "from sklearn.metrics import average_precision_score\n",
    "\n",
    "\n",
    "input_images = []\n",
    "class_masks = []\n",
    "true_masks = []  \n",
    "\n",
    "input_images1 = []\n",
    "class_masks1 = []\n",
    "true_masks1 = []  \n",
    "all_true_class_ids = []\n",
    "all_pred_class_ids = []\n",
    "\n",
    "\n",
    "for inputs,ids in train_GT1:\n",
    "    input_images.append(inputs) \n",
    "    class_masks.append(ids)\n",
    "\n",
    "input_images = np.concatenate(input_images, axis=0)\n",
    "class_masks = np.concatenate(class_masks, axis=0) \n",
    "\n",
    "\n",
    "for inputs, ids in train_GT2:\n",
    "    input_images1.append(inputs)\n",
    "    class_masks1.append(ids)\n",
    "\n",
    "input_images1 = np.concatenate(input_images1, axis=0)\n",
    "class_masks1 = np.concatenate(class_masks1, axis=0) \n",
    "\n",
    "#input_images1 = input_images1.transpose((0, 2, 3, 1))\n",
    "\n",
    "plt.figure(figsize=(10, 10))\n",
    "plt.subplot(1, 2, 1)\n",
    "plt.imshow(class_masks[2])\n",
    "plt.axis('off')\n",
    "plt.subplot(1, 2, 2)\n",
    "plt.imshow(class_masks1[2])\n",
    "plt.axis('off')\n",
    "\n",
    "\n",
    "metrics = SegmentationMetrics(4)\n",
    "metrics.update_confusion_matrix(class_masks, class_masks1)\n",
    "iou_per_class = metrics.calculate_iou_per_class()\n",
    "mean_iou = metrics.mean_iou()\n",
    "accuracy = metrics.calculate_accuracy()\n",
    "cnfMatrix = metrics.confusion_matrix\n",
    "precision,recall,f1 = metrics.calculate_precision_recall_f1_per_class()\n",
    "dice = metrics.calculate_dice_score_per_class()\n",
    "print(\"IoU scores for each class:\", iou_per_class)\n",
    "print(\"Mean IoU score:\", mean_iou)\n",
    "print(\"Accuracy:\", accuracy)\n",
    "print(\"Precision:\", precision)\n",
    "print(\"Recall:\", recall)\n",
    "print(\"F1:\", f1)\n",
    "print(\"Dice:\", dice)\n",
    "\n",
    "\n",
    "plt.figure(figsize=(7,5))  \n",
    "sns.heatmap(cnfMatrix, annot=True, fmt=\".0f\", cmap='Blues')  # Format numbers\n",
    "plt.title('Confusion Matrix')  \n",
    "plt.xlabel('Predicted labels')\n",
    "plt.ylabel('True labels')\n",
    "plt.show()\n",
    "\n",
    "plt.figure(figsize=(7,5))\n",
    "plt.plot(precision[1],recall[1], 'o', label='class 1')\n",
    "\n",
    "\n",
    "\n",
    "\n"
   ]
  },
  {
   "cell_type": "code",
   "execution_count": 26,
   "metadata": {},
   "outputs": [
    {
     "ename": "KeyboardInterrupt",
     "evalue": "",
     "output_type": "error",
     "traceback": [
      "\u001B[0;31m---------------------------------------------------------------------------\u001B[0m",
      "\u001B[0;31mKeyboardInterrupt\u001B[0m                         Traceback (most recent call last)",
      "Cell \u001B[0;32mIn[26], line 6\u001B[0m\n\u001B[1;32m      4\u001B[0m ious \u001B[38;5;241m=\u001B[39m []\n\u001B[1;32m      5\u001B[0m \u001B[38;5;28;01mfor\u001B[39;00m c \u001B[38;5;129;01min\u001B[39;00m \u001B[38;5;28mrange\u001B[39m(class_masks\u001B[38;5;241m.\u001B[39mshape[\u001B[38;5;241m-\u001B[39m\u001B[38;5;241m1\u001B[39m]):\n\u001B[0;32m----> 6\u001B[0m     iou \u001B[38;5;241m=\u001B[39m \u001B[43mjaccard_score\u001B[49m\u001B[43m(\u001B[49m\u001B[43mclass_masks\u001B[49m\u001B[43m[\u001B[49m\u001B[38;5;241;43m.\u001B[39;49m\u001B[38;5;241;43m.\u001B[39;49m\u001B[38;5;241;43m.\u001B[39;49m\u001B[43m,\u001B[49m\u001B[43m \u001B[49m\u001B[43mc\u001B[49m\u001B[43m]\u001B[49m\u001B[38;5;241;43m.\u001B[39;49m\u001B[43mflatten\u001B[49m\u001B[43m(\u001B[49m\u001B[43m)\u001B[49m\u001B[43m,\u001B[49m\u001B[43m \u001B[49m\u001B[43mclass_masks1\u001B[49m\u001B[43m[\u001B[49m\u001B[38;5;241;43m.\u001B[39;49m\u001B[38;5;241;43m.\u001B[39;49m\u001B[38;5;241;43m.\u001B[39;49m\u001B[43m,\u001B[49m\u001B[43m \u001B[49m\u001B[43mc\u001B[49m\u001B[43m]\u001B[49m\u001B[38;5;241;43m.\u001B[39;49m\u001B[43mflatten\u001B[49m\u001B[43m(\u001B[49m\u001B[43m)\u001B[49m\u001B[43m)\u001B[49m\n\u001B[1;32m      7\u001B[0m     ious\u001B[38;5;241m.\u001B[39mappend(iou)\n\u001B[1;32m      9\u001B[0m \u001B[38;5;66;03m# Now ious contains the IoU for each class\u001B[39;00m\n",
      "File \u001B[0;32m~/miniconda3/envs/marcinv2/lib/python3.11/site-packages/sklearn/utils/_param_validation.py:213\u001B[0m, in \u001B[0;36mvalidate_params.<locals>.decorator.<locals>.wrapper\u001B[0;34m(*args, **kwargs)\u001B[0m\n\u001B[1;32m    207\u001B[0m \u001B[38;5;28;01mtry\u001B[39;00m:\n\u001B[1;32m    208\u001B[0m     \u001B[38;5;28;01mwith\u001B[39;00m config_context(\n\u001B[1;32m    209\u001B[0m         skip_parameter_validation\u001B[38;5;241m=\u001B[39m(\n\u001B[1;32m    210\u001B[0m             prefer_skip_nested_validation \u001B[38;5;129;01mor\u001B[39;00m global_skip_validation\n\u001B[1;32m    211\u001B[0m         )\n\u001B[1;32m    212\u001B[0m     ):\n\u001B[0;32m--> 213\u001B[0m         \u001B[38;5;28;01mreturn\u001B[39;00m \u001B[43mfunc\u001B[49m\u001B[43m(\u001B[49m\u001B[38;5;241;43m*\u001B[39;49m\u001B[43margs\u001B[49m\u001B[43m,\u001B[49m\u001B[43m \u001B[49m\u001B[38;5;241;43m*\u001B[39;49m\u001B[38;5;241;43m*\u001B[39;49m\u001B[43mkwargs\u001B[49m\u001B[43m)\u001B[49m\n\u001B[1;32m    214\u001B[0m \u001B[38;5;28;01mexcept\u001B[39;00m InvalidParameterError \u001B[38;5;28;01mas\u001B[39;00m e:\n\u001B[1;32m    215\u001B[0m     \u001B[38;5;66;03m# When the function is just a wrapper around an estimator, we allow\u001B[39;00m\n\u001B[1;32m    216\u001B[0m     \u001B[38;5;66;03m# the function to delegate validation to the estimator, but we replace\u001B[39;00m\n\u001B[1;32m    217\u001B[0m     \u001B[38;5;66;03m# the name of the estimator by the name of the function in the error\u001B[39;00m\n\u001B[1;32m    218\u001B[0m     \u001B[38;5;66;03m# message to avoid confusion.\u001B[39;00m\n\u001B[1;32m    219\u001B[0m     msg \u001B[38;5;241m=\u001B[39m re\u001B[38;5;241m.\u001B[39msub(\n\u001B[1;32m    220\u001B[0m         \u001B[38;5;124mr\u001B[39m\u001B[38;5;124m\"\u001B[39m\u001B[38;5;124mparameter of \u001B[39m\u001B[38;5;124m\\\u001B[39m\u001B[38;5;124mw+ must be\u001B[39m\u001B[38;5;124m\"\u001B[39m,\n\u001B[1;32m    221\u001B[0m         \u001B[38;5;124mf\u001B[39m\u001B[38;5;124m\"\u001B[39m\u001B[38;5;124mparameter of \u001B[39m\u001B[38;5;132;01m{\u001B[39;00mfunc\u001B[38;5;241m.\u001B[39m\u001B[38;5;18m__qualname__\u001B[39m\u001B[38;5;132;01m}\u001B[39;00m\u001B[38;5;124m must be\u001B[39m\u001B[38;5;124m\"\u001B[39m,\n\u001B[1;32m    222\u001B[0m         \u001B[38;5;28mstr\u001B[39m(e),\n\u001B[1;32m    223\u001B[0m     )\n",
      "File \u001B[0;32m~/miniconda3/envs/marcinv2/lib/python3.11/site-packages/sklearn/metrics/_classification.py:871\u001B[0m, in \u001B[0;36mjaccard_score\u001B[0;34m(y_true, y_pred, labels, pos_label, average, sample_weight, zero_division)\u001B[0m\n\u001B[1;32m    712\u001B[0m \u001B[38;5;129m@validate_params\u001B[39m(\n\u001B[1;32m    713\u001B[0m     {\n\u001B[1;32m    714\u001B[0m         \u001B[38;5;124m\"\u001B[39m\u001B[38;5;124my_true\u001B[39m\u001B[38;5;124m\"\u001B[39m: [\u001B[38;5;124m\"\u001B[39m\u001B[38;5;124marray-like\u001B[39m\u001B[38;5;124m\"\u001B[39m, \u001B[38;5;124m\"\u001B[39m\u001B[38;5;124msparse matrix\u001B[39m\u001B[38;5;124m\"\u001B[39m],\n\u001B[0;32m   (...)\u001B[0m\n\u001B[1;32m    738\u001B[0m     zero_division\u001B[38;5;241m=\u001B[39m\u001B[38;5;124m\"\u001B[39m\u001B[38;5;124mwarn\u001B[39m\u001B[38;5;124m\"\u001B[39m,\n\u001B[1;32m    739\u001B[0m ):\n\u001B[1;32m    740\u001B[0m \u001B[38;5;250m    \u001B[39m\u001B[38;5;124;03m\"\"\"Jaccard similarity coefficient score.\u001B[39;00m\n\u001B[1;32m    741\u001B[0m \n\u001B[1;32m    742\u001B[0m \u001B[38;5;124;03m    The Jaccard index [1], or Jaccard similarity coefficient, defined as\u001B[39;00m\n\u001B[0;32m   (...)\u001B[0m\n\u001B[1;32m    869\u001B[0m \u001B[38;5;124;03m    array([1. , 0. , 0.33...])\u001B[39;00m\n\u001B[1;32m    870\u001B[0m \u001B[38;5;124;03m    \"\"\"\u001B[39;00m\n\u001B[0;32m--> 871\u001B[0m     labels \u001B[38;5;241m=\u001B[39m \u001B[43m_check_set_wise_labels\u001B[49m\u001B[43m(\u001B[49m\u001B[43my_true\u001B[49m\u001B[43m,\u001B[49m\u001B[43m \u001B[49m\u001B[43my_pred\u001B[49m\u001B[43m,\u001B[49m\u001B[43m \u001B[49m\u001B[43maverage\u001B[49m\u001B[43m,\u001B[49m\u001B[43m \u001B[49m\u001B[43mlabels\u001B[49m\u001B[43m,\u001B[49m\u001B[43m \u001B[49m\u001B[43mpos_label\u001B[49m\u001B[43m)\u001B[49m\n\u001B[1;32m    872\u001B[0m     samplewise \u001B[38;5;241m=\u001B[39m average \u001B[38;5;241m==\u001B[39m \u001B[38;5;124m\"\u001B[39m\u001B[38;5;124msamples\u001B[39m\u001B[38;5;124m\"\u001B[39m\n\u001B[1;32m    873\u001B[0m     MCM \u001B[38;5;241m=\u001B[39m multilabel_confusion_matrix(\n\u001B[1;32m    874\u001B[0m         y_true,\n\u001B[1;32m    875\u001B[0m         y_pred,\n\u001B[0;32m   (...)\u001B[0m\n\u001B[1;32m    878\u001B[0m         samplewise\u001B[38;5;241m=\u001B[39msamplewise,\n\u001B[1;32m    879\u001B[0m     )\n",
      "File \u001B[0;32m~/miniconda3/envs/marcinv2/lib/python3.11/site-packages/sklearn/metrics/_classification.py:1530\u001B[0m, in \u001B[0;36m_check_set_wise_labels\u001B[0;34m(y_true, y_pred, average, labels, pos_label)\u001B[0m\n\u001B[1;32m   1527\u001B[0m y_type, y_true, y_pred \u001B[38;5;241m=\u001B[39m _check_targets(y_true, y_pred)\n\u001B[1;32m   1528\u001B[0m \u001B[38;5;66;03m# Convert to Python primitive type to avoid NumPy type / Python str\u001B[39;00m\n\u001B[1;32m   1529\u001B[0m \u001B[38;5;66;03m# comparison. See https://github.com/numpy/numpy/issues/6784\u001B[39;00m\n\u001B[0;32m-> 1530\u001B[0m present_labels \u001B[38;5;241m=\u001B[39m \u001B[43munique_labels\u001B[49m\u001B[43m(\u001B[49m\u001B[43my_true\u001B[49m\u001B[43m,\u001B[49m\u001B[43m \u001B[49m\u001B[43my_pred\u001B[49m\u001B[43m)\u001B[49m\u001B[38;5;241m.\u001B[39mtolist()\n\u001B[1;32m   1531\u001B[0m \u001B[38;5;28;01mif\u001B[39;00m average \u001B[38;5;241m==\u001B[39m \u001B[38;5;124m\"\u001B[39m\u001B[38;5;124mbinary\u001B[39m\u001B[38;5;124m\"\u001B[39m:\n\u001B[1;32m   1532\u001B[0m     \u001B[38;5;28;01mif\u001B[39;00m y_type \u001B[38;5;241m==\u001B[39m \u001B[38;5;124m\"\u001B[39m\u001B[38;5;124mbinary\u001B[39m\u001B[38;5;124m\"\u001B[39m:\n",
      "File \u001B[0;32m~/miniconda3/envs/marcinv2/lib/python3.11/site-packages/sklearn/utils/multiclass.py:113\u001B[0m, in \u001B[0;36munique_labels\u001B[0;34m(*ys)\u001B[0m\n\u001B[1;32m    110\u001B[0m     unique_ys \u001B[38;5;241m=\u001B[39m xp\u001B[38;5;241m.\u001B[39mconcat([_unique_labels(y) \u001B[38;5;28;01mfor\u001B[39;00m y \u001B[38;5;129;01min\u001B[39;00m ys])\n\u001B[1;32m    111\u001B[0m     \u001B[38;5;28;01mreturn\u001B[39;00m xp\u001B[38;5;241m.\u001B[39munique_values(unique_ys)\n\u001B[0;32m--> 113\u001B[0m ys_labels \u001B[38;5;241m=\u001B[39m \u001B[38;5;28mset\u001B[39m(chain\u001B[38;5;241m.\u001B[39mfrom_iterable((i \u001B[38;5;28;01mfor\u001B[39;00m i \u001B[38;5;129;01min\u001B[39;00m _unique_labels(y)) \u001B[38;5;28;01mfor\u001B[39;00m y \u001B[38;5;129;01min\u001B[39;00m ys))\n\u001B[1;32m    114\u001B[0m \u001B[38;5;66;03m# Check that we don't mix string type with number type\u001B[39;00m\n\u001B[1;32m    115\u001B[0m \u001B[38;5;28;01mif\u001B[39;00m \u001B[38;5;28mlen\u001B[39m(\u001B[38;5;28mset\u001B[39m(\u001B[38;5;28misinstance\u001B[39m(label, \u001B[38;5;28mstr\u001B[39m) \u001B[38;5;28;01mfor\u001B[39;00m label \u001B[38;5;129;01min\u001B[39;00m ys_labels)) \u001B[38;5;241m>\u001B[39m \u001B[38;5;241m1\u001B[39m:\n",
      "File \u001B[0;32m~/miniconda3/envs/marcinv2/lib/python3.11/site-packages/sklearn/utils/multiclass.py:113\u001B[0m, in \u001B[0;36m<genexpr>\u001B[0;34m(.0)\u001B[0m\n\u001B[1;32m    110\u001B[0m     unique_ys \u001B[38;5;241m=\u001B[39m xp\u001B[38;5;241m.\u001B[39mconcat([_unique_labels(y) \u001B[38;5;28;01mfor\u001B[39;00m y \u001B[38;5;129;01min\u001B[39;00m ys])\n\u001B[1;32m    111\u001B[0m     \u001B[38;5;28;01mreturn\u001B[39;00m xp\u001B[38;5;241m.\u001B[39munique_values(unique_ys)\n\u001B[0;32m--> 113\u001B[0m ys_labels \u001B[38;5;241m=\u001B[39m \u001B[38;5;28mset\u001B[39m(chain\u001B[38;5;241m.\u001B[39mfrom_iterable((i \u001B[38;5;28;01mfor\u001B[39;00m i \u001B[38;5;129;01min\u001B[39;00m \u001B[43m_unique_labels\u001B[49m\u001B[43m(\u001B[49m\u001B[43my\u001B[49m\u001B[43m)\u001B[49m) \u001B[38;5;28;01mfor\u001B[39;00m y \u001B[38;5;129;01min\u001B[39;00m ys))\n\u001B[1;32m    114\u001B[0m \u001B[38;5;66;03m# Check that we don't mix string type with number type\u001B[39;00m\n\u001B[1;32m    115\u001B[0m \u001B[38;5;28;01mif\u001B[39;00m \u001B[38;5;28mlen\u001B[39m(\u001B[38;5;28mset\u001B[39m(\u001B[38;5;28misinstance\u001B[39m(label, \u001B[38;5;28mstr\u001B[39m) \u001B[38;5;28;01mfor\u001B[39;00m label \u001B[38;5;129;01min\u001B[39;00m ys_labels)) \u001B[38;5;241m>\u001B[39m \u001B[38;5;241m1\u001B[39m:\n",
      "File \u001B[0;32m~/miniconda3/envs/marcinv2/lib/python3.11/site-packages/sklearn/utils/multiclass.py:24\u001B[0m, in \u001B[0;36m_unique_multiclass\u001B[0;34m(y)\u001B[0m\n\u001B[1;32m     22\u001B[0m xp, is_array_api_compliant \u001B[38;5;241m=\u001B[39m get_namespace(y)\n\u001B[1;32m     23\u001B[0m \u001B[38;5;28;01mif\u001B[39;00m \u001B[38;5;28mhasattr\u001B[39m(y, \u001B[38;5;124m\"\u001B[39m\u001B[38;5;124m__array__\u001B[39m\u001B[38;5;124m\"\u001B[39m) \u001B[38;5;129;01mor\u001B[39;00m is_array_api_compliant:\n\u001B[0;32m---> 24\u001B[0m     \u001B[38;5;28;01mreturn\u001B[39;00m \u001B[43mxp\u001B[49m\u001B[38;5;241;43m.\u001B[39;49m\u001B[43munique_values\u001B[49m\u001B[43m(\u001B[49m\u001B[43mxp\u001B[49m\u001B[38;5;241;43m.\u001B[39;49m\u001B[43masarray\u001B[49m\u001B[43m(\u001B[49m\u001B[43my\u001B[49m\u001B[43m)\u001B[49m\u001B[43m)\u001B[49m\n\u001B[1;32m     25\u001B[0m \u001B[38;5;28;01melse\u001B[39;00m:\n\u001B[1;32m     26\u001B[0m     \u001B[38;5;28;01mreturn\u001B[39;00m \u001B[38;5;28mset\u001B[39m(y)\n",
      "File \u001B[0;32m~/miniconda3/envs/marcinv2/lib/python3.11/site-packages/sklearn/utils/_array_api.py:307\u001B[0m, in \u001B[0;36m_NumPyAPIWrapper.unique_values\u001B[0;34m(self, x)\u001B[0m\n\u001B[1;32m    306\u001B[0m \u001B[38;5;28;01mdef\u001B[39;00m \u001B[38;5;21munique_values\u001B[39m(\u001B[38;5;28mself\u001B[39m, x):\n\u001B[0;32m--> 307\u001B[0m     \u001B[38;5;28;01mreturn\u001B[39;00m \u001B[43mnumpy\u001B[49m\u001B[38;5;241;43m.\u001B[39;49m\u001B[43munique\u001B[49m\u001B[43m(\u001B[49m\u001B[43mx\u001B[49m\u001B[43m)\u001B[49m\n",
      "File \u001B[0;32m~/miniconda3/envs/marcinv2/lib/python3.11/site-packages/numpy/lib/arraysetops.py:274\u001B[0m, in \u001B[0;36munique\u001B[0;34m(ar, return_index, return_inverse, return_counts, axis, equal_nan)\u001B[0m\n\u001B[1;32m    272\u001B[0m ar \u001B[38;5;241m=\u001B[39m np\u001B[38;5;241m.\u001B[39masanyarray(ar)\n\u001B[1;32m    273\u001B[0m \u001B[38;5;28;01mif\u001B[39;00m axis \u001B[38;5;129;01mis\u001B[39;00m \u001B[38;5;28;01mNone\u001B[39;00m:\n\u001B[0;32m--> 274\u001B[0m     ret \u001B[38;5;241m=\u001B[39m \u001B[43m_unique1d\u001B[49m\u001B[43m(\u001B[49m\u001B[43mar\u001B[49m\u001B[43m,\u001B[49m\u001B[43m \u001B[49m\u001B[43mreturn_index\u001B[49m\u001B[43m,\u001B[49m\u001B[43m \u001B[49m\u001B[43mreturn_inverse\u001B[49m\u001B[43m,\u001B[49m\u001B[43m \u001B[49m\u001B[43mreturn_counts\u001B[49m\u001B[43m,\u001B[49m\u001B[43m \u001B[49m\n\u001B[1;32m    275\u001B[0m \u001B[43m                    \u001B[49m\u001B[43mequal_nan\u001B[49m\u001B[38;5;241;43m=\u001B[39;49m\u001B[43mequal_nan\u001B[49m\u001B[43m)\u001B[49m\n\u001B[1;32m    276\u001B[0m     \u001B[38;5;28;01mreturn\u001B[39;00m _unpack_tuple(ret)\n\u001B[1;32m    278\u001B[0m \u001B[38;5;66;03m# axis was specified and not None\u001B[39;00m\n",
      "File \u001B[0;32m~/miniconda3/envs/marcinv2/lib/python3.11/site-packages/numpy/lib/arraysetops.py:336\u001B[0m, in \u001B[0;36m_unique1d\u001B[0;34m(ar, return_index, return_inverse, return_counts, equal_nan)\u001B[0m\n\u001B[1;32m    334\u001B[0m     aux \u001B[38;5;241m=\u001B[39m ar[perm]\n\u001B[1;32m    335\u001B[0m \u001B[38;5;28;01melse\u001B[39;00m:\n\u001B[0;32m--> 336\u001B[0m     ar\u001B[38;5;241m.\u001B[39msort()\n\u001B[1;32m    337\u001B[0m     aux \u001B[38;5;241m=\u001B[39m ar\n\u001B[1;32m    338\u001B[0m mask \u001B[38;5;241m=\u001B[39m np\u001B[38;5;241m.\u001B[39mempty(aux\u001B[38;5;241m.\u001B[39mshape, dtype\u001B[38;5;241m=\u001B[39mnp\u001B[38;5;241m.\u001B[39mbool_)\n",
      "\u001B[0;31mKeyboardInterrupt\u001B[0m: "
     ]
    }
   ],
   "source": [
    "from sklearn.metrics import jaccard_score\n",
    "\n",
    "# Calculate IoU (Jaccard score) for each class\n",
    "ious = []\n",
    "for c in range(class_masks.shape[-1]):\n",
    "    iou = jaccard_score(class_masks[..., c].flatten(), class_masks1[..., c].flatten())\n",
    "    ious.append(iou)\n",
    "\n",
    "# Now ious contains the IoU for each class\n",
    "for i, iou in enumerate(ious):\n",
    "    print(f\"IoU for class {i}: {iou}\")\n",
    "\n",
    "# If you want the mean IoU across all classes\n",
    "mean_iou = np.mean(ious)\n",
    "print(\"Mean IoU across all classes:\", mean_iou)"
   ]
  },
  {
   "cell_type": "code",
   "execution_count": 29,
   "metadata": {},
   "outputs": [
    {
     "name": "stdout",
     "output_type": "stream",
     "text": [
      "0.36033274956217165\n",
      "0.36033274956217165\n"
     ]
    }
   ],
   "source": [
    "classs = 3\n",
    "iou = jaccard_score(class_masks[0,..., classs].flatten(), class_masks1[0,..., classs].flatten())\n",
    "print(iou)\n",
    "iou2 = calculate_iou(class_masks[0,..., classs], class_masks1[0,..., classs])\n",
    "print(iou2)"
   ]
  },
  {
   "cell_type": "code",
   "execution_count": 24,
   "metadata": {},
   "outputs": [
    {
     "data": {
      "text/plain": [
       "<matplotlib.image.AxesImage at 0x7f805accb0d0>"
      ]
     },
     "execution_count": 24,
     "metadata": {},
     "output_type": "execute_result"
    },
    {
     "data": {
      "image/png": "[encoded data removed]",
      "text/plain": [
       "<Figure size 640x480 with 1 Axes>"
      ]
     },
     "metadata": {},
     "output_type": "display_data"
    }
   ],
   "source": [
    "plt.imshow(class_masks[0,..., 1])"
   ]
  },
  {
   "cell_type": "code",
   "execution_count": 25,
   "metadata": {},
   "outputs": [
    {
     "name": "stdout",
     "output_type": "stream",
     "text": [
      "IoU for class 0: 0.9939750840052808\n",
      "IoU for class 1: 0.3689429403379839\n",
      "IoU for class 2: 0.722969509149901\n",
      "IoU for class 3: 0.5341894060995185\n",
      "Mean IoU across all classes: 0.655019234898171\n"
     ]
    }
   ],
   "source": [
    "def calculate_iou(y_true, y_pred):\n",
    "    # Flatten the arrays\n",
    "    y_true = y_true.reshape(-1)\n",
    "    y_pred = y_pred.reshape(-1)\n",
    "\n",
    "    # Calculate intersection and union\n",
    "    intersection = np.logical_and(y_true, y_pred).sum()\n",
    "    union = np.logical_or(y_true, y_pred).sum()\n",
    "\n",
    "    # Calculate IoU\n",
    "    iou = intersection / union\n",
    "\n",
    "    return iou\n",
    "\n",
    "# Calculate IoU for each class\n",
    "ious = []\n",
    "for c in range(class_masks.shape[-1]):\n",
    "    iou = calculate_iou(class_masks[..., c], class_masks1[..., c])\n",
    "    ious.append(iou)\n",
    "\n",
    "# Now ious contains the IoU for each class\n",
    "for i, iou in enumerate(ious):\n",
    "    print(f\"IoU for class {i}: {iou}\")\n",
    "\n",
    "# If you want the mean IoU across all classes\n",
    "mean_iou = np.mean(ious)\n",
    "print(\"Mean IoU across all classes:\", mean_iou)"
   ]
  },
  {
   "cell_type": "code",
   "execution_count": 37,
   "metadata": {},
   "outputs": [
    {
     "ename": "IndexError",
     "evalue": "only integers, slices (`:`), ellipsis (`...`), numpy.newaxis (`None`) and integer or boolean arrays are valid indices",
     "output_type": "error",
     "traceback": [
      "\u001B[0;31m---------------------------------------------------------------------------\u001B[0m",
      "\u001B[0;31mIndexError\u001B[0m                                Traceback (most recent call last)",
      "Cell \u001B[0;32mIn[37], line 20\u001B[0m\n\u001B[1;32m     18\u001B[0m cm_full \u001B[38;5;241m=\u001B[39m np\u001B[38;5;241m.\u001B[39mzeros((class_masks\u001B[38;5;241m.\u001B[39mshape[\u001B[38;5;241m-\u001B[39m\u001B[38;5;241m1\u001B[39m], class_masks\u001B[38;5;241m.\u001B[39mshape[\u001B[38;5;241m-\u001B[39m\u001B[38;5;241m1\u001B[39m]))\n\u001B[1;32m     19\u001B[0m \u001B[38;5;28;01mfor\u001B[39;00m idx, \u001B[38;5;28mcls\u001B[39m \u001B[38;5;129;01min\u001B[39;00m \u001B[38;5;28menumerate\u001B[39m(unique_classes):\n\u001B[0;32m---> 20\u001B[0m     \u001B[43mcm_full\u001B[49m\u001B[43m[\u001B[49m\u001B[38;5;28;43mcls\u001B[39;49m\u001B[43m]\u001B[49m \u001B[38;5;241m+\u001B[39m\u001B[38;5;241m=\u001B[39m cm_current[idx]\n\u001B[1;32m     22\u001B[0m \u001B[38;5;66;03m# Add the full confusion matrix to the total confusion matrix\u001B[39;00m\n\u001B[1;32m     23\u001B[0m total_confusion_matrix \u001B[38;5;241m+\u001B[39m\u001B[38;5;241m=\u001B[39m cm_full\n",
      "\u001B[0;31mIndexError\u001B[0m: only integers, slices (`:`), ellipsis (`...`), numpy.newaxis (`None`) and integer or boolean arrays are valid indices"
     ]
    }
   ],
   "source": [
    "from sklearn.metrics import confusion_matrix\n",
    "\n",
    "# Initialize a confusion matrix for all classes\n",
    "total_confusion_matrix = np.zeros((class_masks.shape[-1], class_masks.shape[-1]))\n",
    "\n",
    "# Calculate confusion matrix for each class\n",
    "for c in range(class_masks.shape[-1]):\n",
    "    y_true = class_masks[..., c].flatten()\n",
    "    y_pred = class_masks1[..., c].flatten()\n",
    "    \n",
    "    # Get unique classes and their counts\n",
    "    unique_classes, counts = np.unique(np.concatenate([y_true, y_pred]), return_counts=True)\n",
    "    \n",
    "    # Calculate confusion matrix for the current class\n",
    "    cm_current = confusion_matrix(y_true, y_pred, labels=unique_classes)\n",
    "    \n",
    "    # Create a full confusion matrix and fill in the values from cm_current\n",
    "    cm_full = np.zeros((class_masks.shape[-1], class_masks.shape[-1]))\n",
    "    for idx, cls in enumerate(unique_classes):\n",
    "        cm_full[cls] += cm_current[idx]\n",
    "    \n",
    "    # Add the full confusion matrix to the total confusion matrix\n",
    "    total_confusion_matrix += cm_full\n",
    "\n",
    "print(\"Confusion matrix:\\n\", total_confusion_matrix)"
   ]
  },
  {
   "cell_type": "code",
   "execution_count": 36,
   "metadata": {},
   "outputs": [
    {
     "name": "stdout",
     "output_type": "stream",
     "text": [
      "Confusion matrix:\n",
      " [[2.5986e+05 6.1800e+02 8.8000e+01 0.0000e+00]\n",
      " [6.6100e+02 2.9200e+02 4.0000e+01 0.0000e+00]\n",
      " [9.4000e+01 0.0000e+00 4.9100e+02 0.0000e+00]\n",
      " [0.0000e+00 0.0000e+00 0.0000e+00 0.0000e+00]]\n"
     ]
    }
   ],
   "source": [
    "def create_confusion_matrix(y_true, y_pred, num_classes):\n",
    "    # Initialize the confusion matrix\n",
    "    confusion_matrix = np.zeros((num_classes, num_classes))\n",
    "\n",
    "    # Iterate over each pixel\n",
    "    for i in range(512):\n",
    "        for j in range(512):\n",
    "            # Get the true and predicted class for this pixel\n",
    "            true_class = np.argmax(y_true[:,i, j])\n",
    "            pred_class = np.argmax(y_pred[:,i, j])\n",
    "\n",
    "            # Update the confusion matrix\n",
    "            confusion_matrix[true_class, pred_class] += 1\n",
    "\n",
    "    return confusion_matrix\n",
    "\n",
    "# Create confusion matrix for class_masks and class_masks1\n",
    "confusion_matrix = create_confusion_matrix(class_masks, class_masks1, class_masks.shape[-1])\n",
    "\n",
    "print(\"Confusion matrix:\\n\", confusion_matrix)"
   ]
  },
  {
   "cell_type": "code",
   "execution_count": 38,
   "metadata": {},
   "outputs": [],
   "source": [
    "import numpy as np\n",
    "from sklearn.metrics import jaccard_score\n",
    "\n",
    "def calculate_iou(preds,labels):\n",
    "\n",
    "    num_classes = preds.shape[1]\n",
    "    ious = []\n",
    "\n",
    "\n",
    "    \n",
    "    for cls in range(num_classes):\n",
    "\n",
    "        cls_preds = preds[:,cls,:,:]\n",
    "        cls_labels = labels[:,cls,:,:]\n",
    "\n",
    "        intersection = np.logical_and(cls_preds, cls_labels).sum()\n",
    "        union = np.logical_or(cls_preds, cls_labels).sum()\n",
    "        union = union + 1e-6\n",
    "        iou = intersection / union\n",
    "        mean_iou = iou.mean().item()\n",
    "        ious.append(mean_iou)\n",
    "\n",
    "    average_iou = (ious[1]+ious[2])/2\n",
    "\n",
    "    return average_iou, ious\n",
    "\n",
    "\n",
    "def calculate_iou2(preds,labels):\n",
    "\n",
    "    num_classes = preds.shape[1]\n",
    "    ious = []\n",
    "\n",
    "\n",
    "    \n",
    "    for cls in range(num_classes):\n",
    "\n",
    "        cls_preds = preds[:,cls,:,:].flatten()\n",
    "        cls_labels = labels[:,cls,:,:].flatten()\n",
    "\n",
    "        iou = jaccard_score(cls_labels, cls_preds)\n",
    "        ious.append(iou)\n",
    "\n",
    "    average_iou = (ious[1]+ious[2])/2\n",
    "\n",
    "    return average_iou, ious\n",
    "\n",
    "\n",
    "        "
   ]
  },
  {
   "cell_type": "code",
   "execution_count": 39,
   "metadata": {},
   "outputs": [
    {
     "name": "stdout",
     "output_type": "stream",
     "text": [
      "0.5459562247431324\n",
      "[0.9939750840052719, 0.3689429403375594, 0.7229695091487054, 0.5341894060991512]\n"
     ]
    },
    {
     "ename": "KeyboardInterrupt",
     "evalue": "",
     "output_type": "error",
     "traceback": [
      "\u001B[0;31m---------------------------------------------------------------------------\u001B[0m",
      "\u001B[0;31mKeyboardInterrupt\u001B[0m                         Traceback (most recent call last)",
      "Cell \u001B[0;32mIn[39], line 6\u001B[0m\n\u001B[1;32m      3\u001B[0m \u001B[38;5;28mprint\u001B[39m(avr)\n\u001B[1;32m      4\u001B[0m \u001B[38;5;28mprint\u001B[39m(ious)\n\u001B[0;32m----> 6\u001B[0m avr, ious \u001B[38;5;241m=\u001B[39m \u001B[43mcalculate_iou2\u001B[49m\u001B[43m(\u001B[49m\u001B[43mclass_masks\u001B[49m\u001B[43m,\u001B[49m\u001B[43m \u001B[49m\u001B[43mclass_masks1\u001B[49m\u001B[43m)\u001B[49m\n\u001B[1;32m      8\u001B[0m \u001B[38;5;28mprint\u001B[39m(avr)\n\u001B[1;32m      9\u001B[0m \u001B[38;5;28mprint\u001B[39m(ious)\n",
      "Cell \u001B[0;32mIn[38], line 40\u001B[0m, in \u001B[0;36mcalculate_iou2\u001B[0;34m(preds, labels)\u001B[0m\n\u001B[1;32m     37\u001B[0m     cls_preds \u001B[38;5;241m=\u001B[39m preds[:,\u001B[38;5;28mcls\u001B[39m,:,:]\u001B[38;5;241m.\u001B[39mflatten()\n\u001B[1;32m     38\u001B[0m     cls_labels \u001B[38;5;241m=\u001B[39m labels[:,\u001B[38;5;28mcls\u001B[39m,:,:]\u001B[38;5;241m.\u001B[39mflatten()\n\u001B[0;32m---> 40\u001B[0m     iou \u001B[38;5;241m=\u001B[39m \u001B[43mjaccard_score\u001B[49m\u001B[43m(\u001B[49m\u001B[43mcls_labels\u001B[49m\u001B[43m,\u001B[49m\u001B[43m \u001B[49m\u001B[43mcls_preds\u001B[49m\u001B[43m)\u001B[49m\n\u001B[1;32m     41\u001B[0m     ious\u001B[38;5;241m.\u001B[39mappend(iou)\n\u001B[1;32m     43\u001B[0m average_iou \u001B[38;5;241m=\u001B[39m (ious[\u001B[38;5;241m1\u001B[39m]\u001B[38;5;241m+\u001B[39mious[\u001B[38;5;241m2\u001B[39m])\u001B[38;5;241m/\u001B[39m\u001B[38;5;241m2\u001B[39m\n",
      "File \u001B[0;32m~/miniconda3/envs/marcinv2/lib/python3.11/site-packages/sklearn/utils/_param_validation.py:213\u001B[0m, in \u001B[0;36mvalidate_params.<locals>.decorator.<locals>.wrapper\u001B[0;34m(*args, **kwargs)\u001B[0m\n\u001B[1;32m    207\u001B[0m \u001B[38;5;28;01mtry\u001B[39;00m:\n\u001B[1;32m    208\u001B[0m     \u001B[38;5;28;01mwith\u001B[39;00m config_context(\n\u001B[1;32m    209\u001B[0m         skip_parameter_validation\u001B[38;5;241m=\u001B[39m(\n\u001B[1;32m    210\u001B[0m             prefer_skip_nested_validation \u001B[38;5;129;01mor\u001B[39;00m global_skip_validation\n\u001B[1;32m    211\u001B[0m         )\n\u001B[1;32m    212\u001B[0m     ):\n\u001B[0;32m--> 213\u001B[0m         \u001B[38;5;28;01mreturn\u001B[39;00m \u001B[43mfunc\u001B[49m\u001B[43m(\u001B[49m\u001B[38;5;241;43m*\u001B[39;49m\u001B[43margs\u001B[49m\u001B[43m,\u001B[49m\u001B[43m \u001B[49m\u001B[38;5;241;43m*\u001B[39;49m\u001B[38;5;241;43m*\u001B[39;49m\u001B[43mkwargs\u001B[49m\u001B[43m)\u001B[49m\n\u001B[1;32m    214\u001B[0m \u001B[38;5;28;01mexcept\u001B[39;00m InvalidParameterError \u001B[38;5;28;01mas\u001B[39;00m e:\n\u001B[1;32m    215\u001B[0m     \u001B[38;5;66;03m# When the function is just a wrapper around an estimator, we allow\u001B[39;00m\n\u001B[1;32m    216\u001B[0m     \u001B[38;5;66;03m# the function to delegate validation to the estimator, but we replace\u001B[39;00m\n\u001B[1;32m    217\u001B[0m     \u001B[38;5;66;03m# the name of the estimator by the name of the function in the error\u001B[39;00m\n\u001B[1;32m    218\u001B[0m     \u001B[38;5;66;03m# message to avoid confusion.\u001B[39;00m\n\u001B[1;32m    219\u001B[0m     msg \u001B[38;5;241m=\u001B[39m re\u001B[38;5;241m.\u001B[39msub(\n\u001B[1;32m    220\u001B[0m         \u001B[38;5;124mr\u001B[39m\u001B[38;5;124m\"\u001B[39m\u001B[38;5;124mparameter of \u001B[39m\u001B[38;5;124m\\\u001B[39m\u001B[38;5;124mw+ must be\u001B[39m\u001B[38;5;124m\"\u001B[39m,\n\u001B[1;32m    221\u001B[0m         \u001B[38;5;124mf\u001B[39m\u001B[38;5;124m\"\u001B[39m\u001B[38;5;124mparameter of \u001B[39m\u001B[38;5;132;01m{\u001B[39;00mfunc\u001B[38;5;241m.\u001B[39m\u001B[38;5;18m__qualname__\u001B[39m\u001B[38;5;132;01m}\u001B[39;00m\u001B[38;5;124m must be\u001B[39m\u001B[38;5;124m\"\u001B[39m,\n\u001B[1;32m    222\u001B[0m         \u001B[38;5;28mstr\u001B[39m(e),\n\u001B[1;32m    223\u001B[0m     )\n",
      "File \u001B[0;32m~/miniconda3/envs/marcinv2/lib/python3.11/site-packages/sklearn/metrics/_classification.py:873\u001B[0m, in \u001B[0;36mjaccard_score\u001B[0;34m(y_true, y_pred, labels, pos_label, average, sample_weight, zero_division)\u001B[0m\n\u001B[1;32m    871\u001B[0m labels \u001B[38;5;241m=\u001B[39m _check_set_wise_labels(y_true, y_pred, average, labels, pos_label)\n\u001B[1;32m    872\u001B[0m samplewise \u001B[38;5;241m=\u001B[39m average \u001B[38;5;241m==\u001B[39m \u001B[38;5;124m\"\u001B[39m\u001B[38;5;124msamples\u001B[39m\u001B[38;5;124m\"\u001B[39m\n\u001B[0;32m--> 873\u001B[0m MCM \u001B[38;5;241m=\u001B[39m \u001B[43mmultilabel_confusion_matrix\u001B[49m\u001B[43m(\u001B[49m\n\u001B[1;32m    874\u001B[0m \u001B[43m    \u001B[49m\u001B[43my_true\u001B[49m\u001B[43m,\u001B[49m\n\u001B[1;32m    875\u001B[0m \u001B[43m    \u001B[49m\u001B[43my_pred\u001B[49m\u001B[43m,\u001B[49m\n\u001B[1;32m    876\u001B[0m \u001B[43m    \u001B[49m\u001B[43msample_weight\u001B[49m\u001B[38;5;241;43m=\u001B[39;49m\u001B[43msample_weight\u001B[49m\u001B[43m,\u001B[49m\n\u001B[1;32m    877\u001B[0m \u001B[43m    \u001B[49m\u001B[43mlabels\u001B[49m\u001B[38;5;241;43m=\u001B[39;49m\u001B[43mlabels\u001B[49m\u001B[43m,\u001B[49m\n\u001B[1;32m    878\u001B[0m \u001B[43m    \u001B[49m\u001B[43msamplewise\u001B[49m\u001B[38;5;241;43m=\u001B[39;49m\u001B[43msamplewise\u001B[49m\u001B[43m,\u001B[49m\n\u001B[1;32m    879\u001B[0m \u001B[43m\u001B[49m\u001B[43m)\u001B[49m\n\u001B[1;32m    880\u001B[0m numerator \u001B[38;5;241m=\u001B[39m MCM[:, \u001B[38;5;241m1\u001B[39m, \u001B[38;5;241m1\u001B[39m]\n\u001B[1;32m    881\u001B[0m denominator \u001B[38;5;241m=\u001B[39m MCM[:, \u001B[38;5;241m1\u001B[39m, \u001B[38;5;241m1\u001B[39m] \u001B[38;5;241m+\u001B[39m MCM[:, \u001B[38;5;241m0\u001B[39m, \u001B[38;5;241m1\u001B[39m] \u001B[38;5;241m+\u001B[39m MCM[:, \u001B[38;5;241m1\u001B[39m, \u001B[38;5;241m0\u001B[39m]\n",
      "File \u001B[0;32m~/miniconda3/envs/marcinv2/lib/python3.11/site-packages/sklearn/utils/_param_validation.py:186\u001B[0m, in \u001B[0;36mvalidate_params.<locals>.decorator.<locals>.wrapper\u001B[0;34m(*args, **kwargs)\u001B[0m\n\u001B[1;32m    184\u001B[0m global_skip_validation \u001B[38;5;241m=\u001B[39m get_config()[\u001B[38;5;124m\"\u001B[39m\u001B[38;5;124mskip_parameter_validation\u001B[39m\u001B[38;5;124m\"\u001B[39m]\n\u001B[1;32m    185\u001B[0m \u001B[38;5;28;01mif\u001B[39;00m global_skip_validation:\n\u001B[0;32m--> 186\u001B[0m     \u001B[38;5;28;01mreturn\u001B[39;00m \u001B[43mfunc\u001B[49m\u001B[43m(\u001B[49m\u001B[38;5;241;43m*\u001B[39;49m\u001B[43margs\u001B[49m\u001B[43m,\u001B[49m\u001B[43m \u001B[49m\u001B[38;5;241;43m*\u001B[39;49m\u001B[38;5;241;43m*\u001B[39;49m\u001B[43mkwargs\u001B[49m\u001B[43m)\u001B[49m\n\u001B[1;32m    188\u001B[0m func_sig \u001B[38;5;241m=\u001B[39m signature(func)\n\u001B[1;32m    190\u001B[0m \u001B[38;5;66;03m# Map *args/**kwargs to the function signature\u001B[39;00m\n",
      "File \u001B[0;32m~/miniconda3/envs/marcinv2/lib/python3.11/site-packages/sklearn/metrics/_classification.py:508\u001B[0m, in \u001B[0;36mmultilabel_confusion_matrix\u001B[0;34m(y_true, y_pred, sample_weight, labels, samplewise)\u001B[0m\n\u001B[1;32m    398\u001B[0m \u001B[38;5;129m@validate_params\u001B[39m(\n\u001B[1;32m    399\u001B[0m     {\n\u001B[1;32m    400\u001B[0m         \u001B[38;5;124m\"\u001B[39m\u001B[38;5;124my_true\u001B[39m\u001B[38;5;124m\"\u001B[39m: [\u001B[38;5;124m\"\u001B[39m\u001B[38;5;124marray-like\u001B[39m\u001B[38;5;124m\"\u001B[39m, \u001B[38;5;124m\"\u001B[39m\u001B[38;5;124msparse matrix\u001B[39m\u001B[38;5;124m\"\u001B[39m],\n\u001B[0;32m   (...)\u001B[0m\n\u001B[1;32m    409\u001B[0m     y_true, y_pred, \u001B[38;5;241m*\u001B[39m, sample_weight\u001B[38;5;241m=\u001B[39m\u001B[38;5;28;01mNone\u001B[39;00m, labels\u001B[38;5;241m=\u001B[39m\u001B[38;5;28;01mNone\u001B[39;00m, samplewise\u001B[38;5;241m=\u001B[39m\u001B[38;5;28;01mFalse\u001B[39;00m\n\u001B[1;32m    410\u001B[0m ):\n\u001B[1;32m    411\u001B[0m \u001B[38;5;250m    \u001B[39m\u001B[38;5;124;03m\"\"\"Compute a confusion matrix for each class or sample.\u001B[39;00m\n\u001B[1;32m    412\u001B[0m \n\u001B[1;32m    413\u001B[0m \u001B[38;5;124;03m    .. versionadded:: 0.21\u001B[39;00m\n\u001B[0;32m   (...)\u001B[0m\n\u001B[1;32m    506\u001B[0m \u001B[38;5;124;03m            [1, 2]]])\u001B[39;00m\n\u001B[1;32m    507\u001B[0m \u001B[38;5;124;03m    \"\"\"\u001B[39;00m\n\u001B[0;32m--> 508\u001B[0m     y_type, y_true, y_pred \u001B[38;5;241m=\u001B[39m \u001B[43m_check_targets\u001B[49m\u001B[43m(\u001B[49m\u001B[43my_true\u001B[49m\u001B[43m,\u001B[49m\u001B[43m \u001B[49m\u001B[43my_pred\u001B[49m\u001B[43m)\u001B[49m\n\u001B[1;32m    509\u001B[0m     \u001B[38;5;28;01mif\u001B[39;00m sample_weight \u001B[38;5;129;01mis\u001B[39;00m \u001B[38;5;129;01mnot\u001B[39;00m \u001B[38;5;28;01mNone\u001B[39;00m:\n\u001B[1;32m    510\u001B[0m         sample_weight \u001B[38;5;241m=\u001B[39m column_or_1d(sample_weight)\n",
      "File \u001B[0;32m~/miniconda3/envs/marcinv2/lib/python3.11/site-packages/sklearn/metrics/_classification.py:113\u001B[0m, in \u001B[0;36m_check_targets\u001B[0;34m(y_true, y_pred)\u001B[0m\n\u001B[1;32m    111\u001B[0m \u001B[38;5;28;01mif\u001B[39;00m y_type \u001B[38;5;241m==\u001B[39m \u001B[38;5;124m\"\u001B[39m\u001B[38;5;124mbinary\u001B[39m\u001B[38;5;124m\"\u001B[39m:\n\u001B[1;32m    112\u001B[0m     \u001B[38;5;28;01mtry\u001B[39;00m:\n\u001B[0;32m--> 113\u001B[0m         unique_values \u001B[38;5;241m=\u001B[39m \u001B[43m_union1d\u001B[49m\u001B[43m(\u001B[49m\u001B[43my_true\u001B[49m\u001B[43m,\u001B[49m\u001B[43m \u001B[49m\u001B[43my_pred\u001B[49m\u001B[43m,\u001B[49m\u001B[43m \u001B[49m\u001B[43mxp\u001B[49m\u001B[43m)\u001B[49m\n\u001B[1;32m    114\u001B[0m     \u001B[38;5;28;01mexcept\u001B[39;00m \u001B[38;5;167;01mTypeError\u001B[39;00m \u001B[38;5;28;01mas\u001B[39;00m e:\n\u001B[1;32m    115\u001B[0m         \u001B[38;5;66;03m# We expect y_true and y_pred to be of the same data type.\u001B[39;00m\n\u001B[1;32m    116\u001B[0m         \u001B[38;5;66;03m# If `y_true` was provided to the classifier as strings,\u001B[39;00m\n\u001B[1;32m    117\u001B[0m         \u001B[38;5;66;03m# `y_pred` given by the classifier will also be encoded with\u001B[39;00m\n\u001B[1;32m    118\u001B[0m         \u001B[38;5;66;03m# strings. So we raise a meaningful error\u001B[39;00m\n\u001B[1;32m    119\u001B[0m         \u001B[38;5;28;01mraise\u001B[39;00m \u001B[38;5;167;01mTypeError\u001B[39;00m(\n\u001B[1;32m    120\u001B[0m             \u001B[38;5;124m\"\u001B[39m\u001B[38;5;124mLabels in y_true and y_pred should be of the same type. \u001B[39m\u001B[38;5;124m\"\u001B[39m\n\u001B[1;32m    121\u001B[0m             \u001B[38;5;124mf\u001B[39m\u001B[38;5;124m\"\u001B[39m\u001B[38;5;124mGot y_true=\u001B[39m\u001B[38;5;132;01m{\u001B[39;00mxp\u001B[38;5;241m.\u001B[39munique(y_true)\u001B[38;5;132;01m}\u001B[39;00m\u001B[38;5;124m and \u001B[39m\u001B[38;5;124m\"\u001B[39m\n\u001B[0;32m   (...)\u001B[0m\n\u001B[1;32m    124\u001B[0m             \u001B[38;5;124m\"\u001B[39m\u001B[38;5;124mthe true labels.\u001B[39m\u001B[38;5;124m\"\u001B[39m\n\u001B[1;32m    125\u001B[0m         ) \u001B[38;5;28;01mfrom\u001B[39;00m \u001B[38;5;21;01me\u001B[39;00m\n",
      "File \u001B[0;32m~/miniconda3/envs/marcinv2/lib/python3.11/site-packages/sklearn/utils/_array_api.py:118\u001B[0m, in \u001B[0;36m_union1d\u001B[0;34m(a, b, xp)\u001B[0m\n\u001B[1;32m    116\u001B[0m \u001B[38;5;28;01mdef\u001B[39;00m \u001B[38;5;21m_union1d\u001B[39m(a, b, xp):\n\u001B[1;32m    117\u001B[0m     \u001B[38;5;28;01mif\u001B[39;00m _is_numpy_namespace(xp):\n\u001B[0;32m--> 118\u001B[0m         \u001B[38;5;28;01mreturn\u001B[39;00m xp\u001B[38;5;241m.\u001B[39masarray(\u001B[43mnumpy\u001B[49m\u001B[38;5;241;43m.\u001B[39;49m\u001B[43munion1d\u001B[49m\u001B[43m(\u001B[49m\u001B[43ma\u001B[49m\u001B[43m,\u001B[49m\u001B[43m \u001B[49m\u001B[43mb\u001B[49m\u001B[43m)\u001B[49m)\n\u001B[1;32m    119\u001B[0m     \u001B[38;5;28;01massert\u001B[39;00m a\u001B[38;5;241m.\u001B[39mndim \u001B[38;5;241m==\u001B[39m b\u001B[38;5;241m.\u001B[39mndim \u001B[38;5;241m==\u001B[39m \u001B[38;5;241m1\u001B[39m\n\u001B[1;32m    120\u001B[0m     \u001B[38;5;28;01mreturn\u001B[39;00m xp\u001B[38;5;241m.\u001B[39munique_values(xp\u001B[38;5;241m.\u001B[39mconcat([xp\u001B[38;5;241m.\u001B[39munique_values(a), xp\u001B[38;5;241m.\u001B[39munique_values(b)]))\n",
      "File \u001B[0;32m~/miniconda3/envs/marcinv2/lib/python3.11/site-packages/numpy/lib/arraysetops.py:932\u001B[0m, in \u001B[0;36munion1d\u001B[0;34m(ar1, ar2)\u001B[0m\n\u001B[1;32m    898\u001B[0m \u001B[38;5;129m@array_function_dispatch\u001B[39m(_union1d_dispatcher)\n\u001B[1;32m    899\u001B[0m \u001B[38;5;28;01mdef\u001B[39;00m \u001B[38;5;21munion1d\u001B[39m(ar1, ar2):\n\u001B[1;32m    900\u001B[0m \u001B[38;5;250m    \u001B[39m\u001B[38;5;124;03m\"\"\"\u001B[39;00m\n\u001B[1;32m    901\u001B[0m \u001B[38;5;124;03m    Find the union of two arrays.\u001B[39;00m\n\u001B[1;32m    902\u001B[0m \n\u001B[0;32m   (...)\u001B[0m\n\u001B[1;32m    930\u001B[0m \u001B[38;5;124;03m    array([1, 2, 3, 4, 6])\u001B[39;00m\n\u001B[1;32m    931\u001B[0m \u001B[38;5;124;03m    \"\"\"\u001B[39;00m\n\u001B[0;32m--> 932\u001B[0m     \u001B[38;5;28;01mreturn\u001B[39;00m \u001B[43munique\u001B[49m\u001B[43m(\u001B[49m\u001B[43mnp\u001B[49m\u001B[38;5;241;43m.\u001B[39;49m\u001B[43mconcatenate\u001B[49m\u001B[43m(\u001B[49m\u001B[43m(\u001B[49m\u001B[43mar1\u001B[49m\u001B[43m,\u001B[49m\u001B[43m \u001B[49m\u001B[43mar2\u001B[49m\u001B[43m)\u001B[49m\u001B[43m,\u001B[49m\u001B[43m \u001B[49m\u001B[43maxis\u001B[49m\u001B[38;5;241;43m=\u001B[39;49m\u001B[38;5;28;43;01mNone\u001B[39;49;00m\u001B[43m)\u001B[49m\u001B[43m)\u001B[49m\n",
      "File \u001B[0;32m~/miniconda3/envs/marcinv2/lib/python3.11/site-packages/numpy/lib/arraysetops.py:274\u001B[0m, in \u001B[0;36munique\u001B[0;34m(ar, return_index, return_inverse, return_counts, axis, equal_nan)\u001B[0m\n\u001B[1;32m    272\u001B[0m ar \u001B[38;5;241m=\u001B[39m np\u001B[38;5;241m.\u001B[39masanyarray(ar)\n\u001B[1;32m    273\u001B[0m \u001B[38;5;28;01mif\u001B[39;00m axis \u001B[38;5;129;01mis\u001B[39;00m \u001B[38;5;28;01mNone\u001B[39;00m:\n\u001B[0;32m--> 274\u001B[0m     ret \u001B[38;5;241m=\u001B[39m \u001B[43m_unique1d\u001B[49m\u001B[43m(\u001B[49m\u001B[43mar\u001B[49m\u001B[43m,\u001B[49m\u001B[43m \u001B[49m\u001B[43mreturn_index\u001B[49m\u001B[43m,\u001B[49m\u001B[43m \u001B[49m\u001B[43mreturn_inverse\u001B[49m\u001B[43m,\u001B[49m\u001B[43m \u001B[49m\u001B[43mreturn_counts\u001B[49m\u001B[43m,\u001B[49m\u001B[43m \u001B[49m\n\u001B[1;32m    275\u001B[0m \u001B[43m                    \u001B[49m\u001B[43mequal_nan\u001B[49m\u001B[38;5;241;43m=\u001B[39;49m\u001B[43mequal_nan\u001B[49m\u001B[43m)\u001B[49m\n\u001B[1;32m    276\u001B[0m     \u001B[38;5;28;01mreturn\u001B[39;00m _unpack_tuple(ret)\n\u001B[1;32m    278\u001B[0m \u001B[38;5;66;03m# axis was specified and not None\u001B[39;00m\n",
      "File \u001B[0;32m~/miniconda3/envs/marcinv2/lib/python3.11/site-packages/numpy/lib/arraysetops.py:336\u001B[0m, in \u001B[0;36m_unique1d\u001B[0;34m(ar, return_index, return_inverse, return_counts, equal_nan)\u001B[0m\n\u001B[1;32m    334\u001B[0m     aux \u001B[38;5;241m=\u001B[39m ar[perm]\n\u001B[1;32m    335\u001B[0m \u001B[38;5;28;01melse\u001B[39;00m:\n\u001B[0;32m--> 336\u001B[0m     ar\u001B[38;5;241m.\u001B[39msort()\n\u001B[1;32m    337\u001B[0m     aux \u001B[38;5;241m=\u001B[39m ar\n\u001B[1;32m    338\u001B[0m mask \u001B[38;5;241m=\u001B[39m np\u001B[38;5;241m.\u001B[39mempty(aux\u001B[38;5;241m.\u001B[39mshape, dtype\u001B[38;5;241m=\u001B[39mnp\u001B[38;5;241m.\u001B[39mbool_)\n",
      "\u001B[0;31mKeyboardInterrupt\u001B[0m: "
     ]
    }
   ],
   "source": [
    "avr, ious = calculate_iou(class_masks, class_masks1)\n",
    "\n",
    "print(avr)\n",
    "print(ious)\n",
    "\n",
    "avr, ious = calculate_iou2(class_masks, class_masks1)\n",
    "\n",
    "print(avr)\n",
    "print(ious)\n"
   ]
  },
  {
   "cell_type": "code",
   "outputs": [
    {
     "name": "stdout",
     "output_type": "stream",
     "text": [
      "Zakończono tworzenie masek.\n"
     ]
    }
   ],
   "source": [
    "import os\n",
    "from PIL import Image\n",
    "import numpy as np\n",
    "\n",
    "# Ścieżki do folderów z maskami dla klas \"wić\" i \"główka\"\n",
    "path_wic = '/media/cal314-1/9E044F59044F3415/Marcin/noisy_labels/Dataset/SegSperm/test/For testing/GT_tail'\n",
    "path_glowka = '/media/cal314-1/9E044F59044F3415/Marcin/noisy_labels/Dataset/SegSperm/test/For testing/GT_head'\n",
    "\n",
    "# Folder docelowy dla złączonych masek\n",
    "output_path = '/media/cal314-1/9E044F59044F3415/Marcin/noisy_labels/Dataset/SegSperm/test/For testing/GT_merge'\n",
    "os.makedirs(output_path, exist_ok=True)\n",
    "\n",
    "# Przechodzimy przez wszystkie pliki w jednym z folderów\n",
    "for filename in os.listdir(path_wic):\n",
    "    if filename.endswith('.png'):\n",
    "        # Ścieżki do konkretnych plików maski\n",
    "        path_wic_file = os.path.join(path_wic, filename)\n",
    "        path_glowka_file = os.path.join(path_glowka, filename)\n",
    "        \n",
    "        # Otwieranie masek\n",
    "        mask_wic = Image.open(path_wic_file)\n",
    "        mask_glowka = Image.open(path_glowka_file)\n",
    "        \n",
    "        # Konwersja masek do tablic numpy\n",
    "        mask_wic_array = np.array(mask_wic)\n",
    "        mask_glowka_array = np.array(mask_glowka)\n",
    "        \n",
    "        # Tworzenie pustego obrazu RGB o tej samej wielkości co maski\n",
    "        merged_image = np.zeros((mask_wic_array.shape[0], mask_wic_array.shape[1], 3), dtype=np.uint8)\n",
    "        \n",
    "        # Przypisanie kolorów: wić na zielono, główka na czerwono\n",
    "        merged_image[mask_wic_array == 255] = [0, 255, 0]  # Zielony gdzie maska wić jest aktywna\n",
    "        merged_image[mask_glowka_array == 255] = [255, 0, 0]  # Czerwony gdzie maska główka jest aktywna\n",
    "        \n",
    "        # Tworzenie obrazu PIL z tablicy numpy\n",
    "        merged_image_pil = Image.fromarray(merged_image)\n",
    "        \n",
    "        # Zapisanie wynikowego obrazu\n",
    "        merged_image_pil.save(os.path.join(output_path, filename))\n",
    "\n",
    "print(\"Zakończono tworzenie masek.\")\n"
   ],
   "metadata": {
    "collapsed": false,
    "ExecuteTime": {
     "end_time": "2024-04-29T11:21:37.502298Z",
     "start_time": "2024-04-29T11:21:36.475603Z"
    }
   },
   "execution_count": 1
  }
 ],
 "metadata": {
  "kernelspec": {
   "display_name": "marcin",
   "language": "python",
   "name": "python3"
  },
  "language_info": {
   "codemirror_mode": {
    "name": "ipython",
    "version": 3
   },
   "file_extension": ".py",
   "mimetype": "text/x-python",
   "name": "python",
   "nbconvert_exporter": "python",
   "pygments_lexer": "ipython3",
   "version": "3.11.7"
  }
 },
 "nbformat": 4,
 "nbformat_minor": 2
}
